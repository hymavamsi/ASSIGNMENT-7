{
 "cells": [
  {
   "cell_type": "markdown",
   "id": "f47fdd1f",
   "metadata": {},
   "source": [
    "# TASK : CAR PRICE PREDICTION USING MACHINE LEARNING ALGORITHMS"
   ]
  },
  {
   "cell_type": "markdown",
   "id": "ffe0c01a",
   "metadata": {},
   "source": [
    "# NAME : AKOJU HYMAVATHI"
   ]
  },
  {
   "cell_type": "markdown",
   "id": "86fdbc3d",
   "metadata": {},
   "source": [
    "# INTERNSHIP : UNMESSENGER"
   ]
  },
  {
   "cell_type": "markdown",
   "id": "e8305df7",
   "metadata": {},
   "source": [
    "# OBJECTIVE"
   ]
  },
  {
   "cell_type": "code",
   "execution_count": 1,
   "id": "f90ac46f",
   "metadata": {},
   "outputs": [],
   "source": [
    "# To predict car price using machine learning algorithms."
   ]
  },
  {
   "cell_type": "markdown",
   "id": "8b078366",
   "metadata": {},
   "source": [
    "# IMPORTING LIBRARIES"
   ]
  },
  {
   "cell_type": "code",
   "execution_count": 2,
   "id": "403c5806",
   "metadata": {},
   "outputs": [],
   "source": [
    "import numpy as np\n",
    "import pandas as pd\n",
    "import seaborn as sns\n",
    "import matplotlib.pyplot as plt"
   ]
  },
  {
   "cell_type": "markdown",
   "id": "17af7e54",
   "metadata": {},
   "source": [
    "# IMPORTING THE DATA"
   ]
  },
  {
   "cell_type": "code",
   "execution_count": 3,
   "id": "e57c9940",
   "metadata": {},
   "outputs": [
    {
     "data": {
      "text/html": [
       "<div>\n",
       "<style scoped>\n",
       "    .dataframe tbody tr th:only-of-type {\n",
       "        vertical-align: middle;\n",
       "    }\n",
       "\n",
       "    .dataframe tbody tr th {\n",
       "        vertical-align: top;\n",
       "    }\n",
       "\n",
       "    .dataframe thead th {\n",
       "        text-align: right;\n",
       "    }\n",
       "</style>\n",
       "<table border=\"1\" class=\"dataframe\">\n",
       "  <thead>\n",
       "    <tr style=\"text-align: right;\">\n",
       "      <th></th>\n",
       "      <th>Car_Name</th>\n",
       "      <th>Year</th>\n",
       "      <th>Selling_Price</th>\n",
       "      <th>Present_Price</th>\n",
       "      <th>Kms_Driven</th>\n",
       "      <th>Fuel_Type</th>\n",
       "      <th>Seller_Type</th>\n",
       "      <th>Transmission</th>\n",
       "      <th>Owner</th>\n",
       "    </tr>\n",
       "  </thead>\n",
       "  <tbody>\n",
       "    <tr>\n",
       "      <th>0</th>\n",
       "      <td>ritz</td>\n",
       "      <td>2014</td>\n",
       "      <td>3.35</td>\n",
       "      <td>5.59</td>\n",
       "      <td>27000</td>\n",
       "      <td>Petrol</td>\n",
       "      <td>Dealer</td>\n",
       "      <td>Manual</td>\n",
       "      <td>0</td>\n",
       "    </tr>\n",
       "    <tr>\n",
       "      <th>1</th>\n",
       "      <td>sx4</td>\n",
       "      <td>2013</td>\n",
       "      <td>4.75</td>\n",
       "      <td>9.54</td>\n",
       "      <td>43000</td>\n",
       "      <td>Diesel</td>\n",
       "      <td>Dealer</td>\n",
       "      <td>Manual</td>\n",
       "      <td>0</td>\n",
       "    </tr>\n",
       "    <tr>\n",
       "      <th>2</th>\n",
       "      <td>ciaz</td>\n",
       "      <td>2017</td>\n",
       "      <td>7.25</td>\n",
       "      <td>9.85</td>\n",
       "      <td>6900</td>\n",
       "      <td>Petrol</td>\n",
       "      <td>Dealer</td>\n",
       "      <td>Manual</td>\n",
       "      <td>0</td>\n",
       "    </tr>\n",
       "    <tr>\n",
       "      <th>3</th>\n",
       "      <td>wagon r</td>\n",
       "      <td>2011</td>\n",
       "      <td>2.85</td>\n",
       "      <td>4.15</td>\n",
       "      <td>5200</td>\n",
       "      <td>Petrol</td>\n",
       "      <td>Dealer</td>\n",
       "      <td>Manual</td>\n",
       "      <td>0</td>\n",
       "    </tr>\n",
       "    <tr>\n",
       "      <th>4</th>\n",
       "      <td>swift</td>\n",
       "      <td>2014</td>\n",
       "      <td>4.60</td>\n",
       "      <td>6.87</td>\n",
       "      <td>42450</td>\n",
       "      <td>Diesel</td>\n",
       "      <td>Dealer</td>\n",
       "      <td>Manual</td>\n",
       "      <td>0</td>\n",
       "    </tr>\n",
       "    <tr>\n",
       "      <th>...</th>\n",
       "      <td>...</td>\n",
       "      <td>...</td>\n",
       "      <td>...</td>\n",
       "      <td>...</td>\n",
       "      <td>...</td>\n",
       "      <td>...</td>\n",
       "      <td>...</td>\n",
       "      <td>...</td>\n",
       "      <td>...</td>\n",
       "    </tr>\n",
       "    <tr>\n",
       "      <th>296</th>\n",
       "      <td>city</td>\n",
       "      <td>2016</td>\n",
       "      <td>9.50</td>\n",
       "      <td>11.60</td>\n",
       "      <td>33988</td>\n",
       "      <td>Diesel</td>\n",
       "      <td>Dealer</td>\n",
       "      <td>Manual</td>\n",
       "      <td>0</td>\n",
       "    </tr>\n",
       "    <tr>\n",
       "      <th>297</th>\n",
       "      <td>brio</td>\n",
       "      <td>2015</td>\n",
       "      <td>4.00</td>\n",
       "      <td>5.90</td>\n",
       "      <td>60000</td>\n",
       "      <td>Petrol</td>\n",
       "      <td>Dealer</td>\n",
       "      <td>Manual</td>\n",
       "      <td>0</td>\n",
       "    </tr>\n",
       "    <tr>\n",
       "      <th>298</th>\n",
       "      <td>city</td>\n",
       "      <td>2009</td>\n",
       "      <td>3.35</td>\n",
       "      <td>11.00</td>\n",
       "      <td>87934</td>\n",
       "      <td>Petrol</td>\n",
       "      <td>Dealer</td>\n",
       "      <td>Manual</td>\n",
       "      <td>0</td>\n",
       "    </tr>\n",
       "    <tr>\n",
       "      <th>299</th>\n",
       "      <td>city</td>\n",
       "      <td>2017</td>\n",
       "      <td>11.50</td>\n",
       "      <td>12.50</td>\n",
       "      <td>9000</td>\n",
       "      <td>Diesel</td>\n",
       "      <td>Dealer</td>\n",
       "      <td>Manual</td>\n",
       "      <td>0</td>\n",
       "    </tr>\n",
       "    <tr>\n",
       "      <th>300</th>\n",
       "      <td>brio</td>\n",
       "      <td>2016</td>\n",
       "      <td>5.30</td>\n",
       "      <td>5.90</td>\n",
       "      <td>5464</td>\n",
       "      <td>Petrol</td>\n",
       "      <td>Dealer</td>\n",
       "      <td>Manual</td>\n",
       "      <td>0</td>\n",
       "    </tr>\n",
       "  </tbody>\n",
       "</table>\n",
       "<p>301 rows × 9 columns</p>\n",
       "</div>"
      ],
      "text/plain": [
       "    Car_Name  Year  Selling_Price  Present_Price  Kms_Driven Fuel_Type  \\\n",
       "0       ritz  2014           3.35           5.59       27000    Petrol   \n",
       "1        sx4  2013           4.75           9.54       43000    Diesel   \n",
       "2       ciaz  2017           7.25           9.85        6900    Petrol   \n",
       "3    wagon r  2011           2.85           4.15        5200    Petrol   \n",
       "4      swift  2014           4.60           6.87       42450    Diesel   \n",
       "..       ...   ...            ...            ...         ...       ...   \n",
       "296     city  2016           9.50          11.60       33988    Diesel   \n",
       "297     brio  2015           4.00           5.90       60000    Petrol   \n",
       "298     city  2009           3.35          11.00       87934    Petrol   \n",
       "299     city  2017          11.50          12.50        9000    Diesel   \n",
       "300     brio  2016           5.30           5.90        5464    Petrol   \n",
       "\n",
       "    Seller_Type Transmission  Owner  \n",
       "0        Dealer       Manual      0  \n",
       "1        Dealer       Manual      0  \n",
       "2        Dealer       Manual      0  \n",
       "3        Dealer       Manual      0  \n",
       "4        Dealer       Manual      0  \n",
       "..          ...          ...    ...  \n",
       "296      Dealer       Manual      0  \n",
       "297      Dealer       Manual      0  \n",
       "298      Dealer       Manual      0  \n",
       "299      Dealer       Manual      0  \n",
       "300      Dealer       Manual      0  \n",
       "\n",
       "[301 rows x 9 columns]"
      ]
     },
     "execution_count": 3,
     "metadata": {},
     "output_type": "execute_result"
    }
   ],
   "source": [
    "df= pd.read_csv(r\"C:\\Users\\Admin\\Desktop\\car_data.csv\")\n",
    "df"
   ]
  },
  {
   "cell_type": "markdown",
   "id": "22170c65",
   "metadata": {},
   "source": [
    "# DATA PRE-PROCESSING"
   ]
  },
  {
   "cell_type": "code",
   "execution_count": 4,
   "id": "12e6f7ef",
   "metadata": {},
   "outputs": [
    {
     "data": {
      "text/plain": [
       "(301, 9)"
      ]
     },
     "execution_count": 4,
     "metadata": {},
     "output_type": "execute_result"
    }
   ],
   "source": [
    "df.shape"
   ]
  },
  {
   "cell_type": "code",
   "execution_count": 5,
   "id": "4e7db385",
   "metadata": {},
   "outputs": [
    {
     "data": {
      "text/plain": [
       "2709"
      ]
     },
     "execution_count": 5,
     "metadata": {},
     "output_type": "execute_result"
    }
   ],
   "source": [
    "df.size"
   ]
  },
  {
   "cell_type": "code",
   "execution_count": 6,
   "id": "3b60b3bb",
   "metadata": {},
   "outputs": [
    {
     "data": {
      "text/html": [
       "<div>\n",
       "<style scoped>\n",
       "    .dataframe tbody tr th:only-of-type {\n",
       "        vertical-align: middle;\n",
       "    }\n",
       "\n",
       "    .dataframe tbody tr th {\n",
       "        vertical-align: top;\n",
       "    }\n",
       "\n",
       "    .dataframe thead th {\n",
       "        text-align: right;\n",
       "    }\n",
       "</style>\n",
       "<table border=\"1\" class=\"dataframe\">\n",
       "  <thead>\n",
       "    <tr style=\"text-align: right;\">\n",
       "      <th></th>\n",
       "      <th>Car_Name</th>\n",
       "      <th>Year</th>\n",
       "      <th>Selling_Price</th>\n",
       "      <th>Present_Price</th>\n",
       "      <th>Kms_Driven</th>\n",
       "      <th>Fuel_Type</th>\n",
       "      <th>Seller_Type</th>\n",
       "      <th>Transmission</th>\n",
       "      <th>Owner</th>\n",
       "    </tr>\n",
       "  </thead>\n",
       "  <tbody>\n",
       "    <tr>\n",
       "      <th>0</th>\n",
       "      <td>ritz</td>\n",
       "      <td>2014</td>\n",
       "      <td>3.35</td>\n",
       "      <td>5.59</td>\n",
       "      <td>27000</td>\n",
       "      <td>Petrol</td>\n",
       "      <td>Dealer</td>\n",
       "      <td>Manual</td>\n",
       "      <td>0</td>\n",
       "    </tr>\n",
       "    <tr>\n",
       "      <th>1</th>\n",
       "      <td>sx4</td>\n",
       "      <td>2013</td>\n",
       "      <td>4.75</td>\n",
       "      <td>9.54</td>\n",
       "      <td>43000</td>\n",
       "      <td>Diesel</td>\n",
       "      <td>Dealer</td>\n",
       "      <td>Manual</td>\n",
       "      <td>0</td>\n",
       "    </tr>\n",
       "    <tr>\n",
       "      <th>2</th>\n",
       "      <td>ciaz</td>\n",
       "      <td>2017</td>\n",
       "      <td>7.25</td>\n",
       "      <td>9.85</td>\n",
       "      <td>6900</td>\n",
       "      <td>Petrol</td>\n",
       "      <td>Dealer</td>\n",
       "      <td>Manual</td>\n",
       "      <td>0</td>\n",
       "    </tr>\n",
       "    <tr>\n",
       "      <th>3</th>\n",
       "      <td>wagon r</td>\n",
       "      <td>2011</td>\n",
       "      <td>2.85</td>\n",
       "      <td>4.15</td>\n",
       "      <td>5200</td>\n",
       "      <td>Petrol</td>\n",
       "      <td>Dealer</td>\n",
       "      <td>Manual</td>\n",
       "      <td>0</td>\n",
       "    </tr>\n",
       "    <tr>\n",
       "      <th>4</th>\n",
       "      <td>swift</td>\n",
       "      <td>2014</td>\n",
       "      <td>4.60</td>\n",
       "      <td>6.87</td>\n",
       "      <td>42450</td>\n",
       "      <td>Diesel</td>\n",
       "      <td>Dealer</td>\n",
       "      <td>Manual</td>\n",
       "      <td>0</td>\n",
       "    </tr>\n",
       "  </tbody>\n",
       "</table>\n",
       "</div>"
      ],
      "text/plain": [
       "  Car_Name  Year  Selling_Price  Present_Price  Kms_Driven Fuel_Type  \\\n",
       "0     ritz  2014           3.35           5.59       27000    Petrol   \n",
       "1      sx4  2013           4.75           9.54       43000    Diesel   \n",
       "2     ciaz  2017           7.25           9.85        6900    Petrol   \n",
       "3  wagon r  2011           2.85           4.15        5200    Petrol   \n",
       "4    swift  2014           4.60           6.87       42450    Diesel   \n",
       "\n",
       "  Seller_Type Transmission  Owner  \n",
       "0      Dealer       Manual      0  \n",
       "1      Dealer       Manual      0  \n",
       "2      Dealer       Manual      0  \n",
       "3      Dealer       Manual      0  \n",
       "4      Dealer       Manual      0  "
      ]
     },
     "execution_count": 6,
     "metadata": {},
     "output_type": "execute_result"
    }
   ],
   "source": [
    "df.head()"
   ]
  },
  {
   "cell_type": "code",
   "execution_count": 7,
   "id": "97dd76a7",
   "metadata": {},
   "outputs": [
    {
     "data": {
      "text/html": [
       "<div>\n",
       "<style scoped>\n",
       "    .dataframe tbody tr th:only-of-type {\n",
       "        vertical-align: middle;\n",
       "    }\n",
       "\n",
       "    .dataframe tbody tr th {\n",
       "        vertical-align: top;\n",
       "    }\n",
       "\n",
       "    .dataframe thead th {\n",
       "        text-align: right;\n",
       "    }\n",
       "</style>\n",
       "<table border=\"1\" class=\"dataframe\">\n",
       "  <thead>\n",
       "    <tr style=\"text-align: right;\">\n",
       "      <th></th>\n",
       "      <th>Car_Name</th>\n",
       "      <th>Year</th>\n",
       "      <th>Selling_Price</th>\n",
       "      <th>Present_Price</th>\n",
       "      <th>Kms_Driven</th>\n",
       "      <th>Fuel_Type</th>\n",
       "      <th>Seller_Type</th>\n",
       "      <th>Transmission</th>\n",
       "      <th>Owner</th>\n",
       "    </tr>\n",
       "  </thead>\n",
       "  <tbody>\n",
       "    <tr>\n",
       "      <th>296</th>\n",
       "      <td>city</td>\n",
       "      <td>2016</td>\n",
       "      <td>9.50</td>\n",
       "      <td>11.6</td>\n",
       "      <td>33988</td>\n",
       "      <td>Diesel</td>\n",
       "      <td>Dealer</td>\n",
       "      <td>Manual</td>\n",
       "      <td>0</td>\n",
       "    </tr>\n",
       "    <tr>\n",
       "      <th>297</th>\n",
       "      <td>brio</td>\n",
       "      <td>2015</td>\n",
       "      <td>4.00</td>\n",
       "      <td>5.9</td>\n",
       "      <td>60000</td>\n",
       "      <td>Petrol</td>\n",
       "      <td>Dealer</td>\n",
       "      <td>Manual</td>\n",
       "      <td>0</td>\n",
       "    </tr>\n",
       "    <tr>\n",
       "      <th>298</th>\n",
       "      <td>city</td>\n",
       "      <td>2009</td>\n",
       "      <td>3.35</td>\n",
       "      <td>11.0</td>\n",
       "      <td>87934</td>\n",
       "      <td>Petrol</td>\n",
       "      <td>Dealer</td>\n",
       "      <td>Manual</td>\n",
       "      <td>0</td>\n",
       "    </tr>\n",
       "    <tr>\n",
       "      <th>299</th>\n",
       "      <td>city</td>\n",
       "      <td>2017</td>\n",
       "      <td>11.50</td>\n",
       "      <td>12.5</td>\n",
       "      <td>9000</td>\n",
       "      <td>Diesel</td>\n",
       "      <td>Dealer</td>\n",
       "      <td>Manual</td>\n",
       "      <td>0</td>\n",
       "    </tr>\n",
       "    <tr>\n",
       "      <th>300</th>\n",
       "      <td>brio</td>\n",
       "      <td>2016</td>\n",
       "      <td>5.30</td>\n",
       "      <td>5.9</td>\n",
       "      <td>5464</td>\n",
       "      <td>Petrol</td>\n",
       "      <td>Dealer</td>\n",
       "      <td>Manual</td>\n",
       "      <td>0</td>\n",
       "    </tr>\n",
       "  </tbody>\n",
       "</table>\n",
       "</div>"
      ],
      "text/plain": [
       "    Car_Name  Year  Selling_Price  Present_Price  Kms_Driven Fuel_Type  \\\n",
       "296     city  2016           9.50           11.6       33988    Diesel   \n",
       "297     brio  2015           4.00            5.9       60000    Petrol   \n",
       "298     city  2009           3.35           11.0       87934    Petrol   \n",
       "299     city  2017          11.50           12.5        9000    Diesel   \n",
       "300     brio  2016           5.30            5.9        5464    Petrol   \n",
       "\n",
       "    Seller_Type Transmission  Owner  \n",
       "296      Dealer       Manual      0  \n",
       "297      Dealer       Manual      0  \n",
       "298      Dealer       Manual      0  \n",
       "299      Dealer       Manual      0  \n",
       "300      Dealer       Manual      0  "
      ]
     },
     "execution_count": 7,
     "metadata": {},
     "output_type": "execute_result"
    }
   ],
   "source": [
    "df.tail()"
   ]
  },
  {
   "cell_type": "code",
   "execution_count": 8,
   "id": "243fcfaf",
   "metadata": {},
   "outputs": [
    {
     "data": {
      "text/plain": [
       "Index(['Car_Name', 'Year', 'Selling_Price', 'Present_Price', 'Kms_Driven',\n",
       "       'Fuel_Type', 'Seller_Type', 'Transmission', 'Owner'],\n",
       "      dtype='object')"
      ]
     },
     "execution_count": 8,
     "metadata": {},
     "output_type": "execute_result"
    }
   ],
   "source": [
    "df.columns"
   ]
  },
  {
   "cell_type": "code",
   "execution_count": 9,
   "id": "a1fe45f4",
   "metadata": {},
   "outputs": [
    {
     "name": "stdout",
     "output_type": "stream",
     "text": [
      "<class 'pandas.core.frame.DataFrame'>\n",
      "RangeIndex: 301 entries, 0 to 300\n",
      "Data columns (total 9 columns):\n",
      " #   Column         Non-Null Count  Dtype  \n",
      "---  ------         --------------  -----  \n",
      " 0   Car_Name       301 non-null    object \n",
      " 1   Year           301 non-null    int64  \n",
      " 2   Selling_Price  301 non-null    float64\n",
      " 3   Present_Price  301 non-null    float64\n",
      " 4   Kms_Driven     301 non-null    int64  \n",
      " 5   Fuel_Type      301 non-null    object \n",
      " 6   Seller_Type    301 non-null    object \n",
      " 7   Transmission   301 non-null    object \n",
      " 8   Owner          301 non-null    int64  \n",
      "dtypes: float64(2), int64(3), object(4)\n",
      "memory usage: 21.3+ KB\n"
     ]
    }
   ],
   "source": [
    "df.info()"
   ]
  },
  {
   "cell_type": "code",
   "execution_count": 10,
   "id": "97c9b523",
   "metadata": {},
   "outputs": [
    {
     "data": {
      "text/html": [
       "<div>\n",
       "<style scoped>\n",
       "    .dataframe tbody tr th:only-of-type {\n",
       "        vertical-align: middle;\n",
       "    }\n",
       "\n",
       "    .dataframe tbody tr th {\n",
       "        vertical-align: top;\n",
       "    }\n",
       "\n",
       "    .dataframe thead th {\n",
       "        text-align: right;\n",
       "    }\n",
       "</style>\n",
       "<table border=\"1\" class=\"dataframe\">\n",
       "  <thead>\n",
       "    <tr style=\"text-align: right;\">\n",
       "      <th></th>\n",
       "      <th>Year</th>\n",
       "      <th>Selling_Price</th>\n",
       "      <th>Present_Price</th>\n",
       "      <th>Kms_Driven</th>\n",
       "      <th>Owner</th>\n",
       "    </tr>\n",
       "  </thead>\n",
       "  <tbody>\n",
       "    <tr>\n",
       "      <th>count</th>\n",
       "      <td>301.000000</td>\n",
       "      <td>301.000000</td>\n",
       "      <td>301.000000</td>\n",
       "      <td>301.000000</td>\n",
       "      <td>301.000000</td>\n",
       "    </tr>\n",
       "    <tr>\n",
       "      <th>mean</th>\n",
       "      <td>2013.627907</td>\n",
       "      <td>4.661296</td>\n",
       "      <td>7.628472</td>\n",
       "      <td>36947.205980</td>\n",
       "      <td>0.043189</td>\n",
       "    </tr>\n",
       "    <tr>\n",
       "      <th>std</th>\n",
       "      <td>2.891554</td>\n",
       "      <td>5.082812</td>\n",
       "      <td>8.644115</td>\n",
       "      <td>38886.883882</td>\n",
       "      <td>0.247915</td>\n",
       "    </tr>\n",
       "    <tr>\n",
       "      <th>min</th>\n",
       "      <td>2003.000000</td>\n",
       "      <td>0.100000</td>\n",
       "      <td>0.320000</td>\n",
       "      <td>500.000000</td>\n",
       "      <td>0.000000</td>\n",
       "    </tr>\n",
       "    <tr>\n",
       "      <th>25%</th>\n",
       "      <td>2012.000000</td>\n",
       "      <td>0.900000</td>\n",
       "      <td>1.200000</td>\n",
       "      <td>15000.000000</td>\n",
       "      <td>0.000000</td>\n",
       "    </tr>\n",
       "    <tr>\n",
       "      <th>50%</th>\n",
       "      <td>2014.000000</td>\n",
       "      <td>3.600000</td>\n",
       "      <td>6.400000</td>\n",
       "      <td>32000.000000</td>\n",
       "      <td>0.000000</td>\n",
       "    </tr>\n",
       "    <tr>\n",
       "      <th>75%</th>\n",
       "      <td>2016.000000</td>\n",
       "      <td>6.000000</td>\n",
       "      <td>9.900000</td>\n",
       "      <td>48767.000000</td>\n",
       "      <td>0.000000</td>\n",
       "    </tr>\n",
       "    <tr>\n",
       "      <th>max</th>\n",
       "      <td>2018.000000</td>\n",
       "      <td>35.000000</td>\n",
       "      <td>92.600000</td>\n",
       "      <td>500000.000000</td>\n",
       "      <td>3.000000</td>\n",
       "    </tr>\n",
       "  </tbody>\n",
       "</table>\n",
       "</div>"
      ],
      "text/plain": [
       "              Year  Selling_Price  Present_Price     Kms_Driven       Owner\n",
       "count   301.000000     301.000000     301.000000     301.000000  301.000000\n",
       "mean   2013.627907       4.661296       7.628472   36947.205980    0.043189\n",
       "std       2.891554       5.082812       8.644115   38886.883882    0.247915\n",
       "min    2003.000000       0.100000       0.320000     500.000000    0.000000\n",
       "25%    2012.000000       0.900000       1.200000   15000.000000    0.000000\n",
       "50%    2014.000000       3.600000       6.400000   32000.000000    0.000000\n",
       "75%    2016.000000       6.000000       9.900000   48767.000000    0.000000\n",
       "max    2018.000000      35.000000      92.600000  500000.000000    3.000000"
      ]
     },
     "execution_count": 10,
     "metadata": {},
     "output_type": "execute_result"
    }
   ],
   "source": [
    "df.describe()"
   ]
  },
  {
   "cell_type": "code",
   "execution_count": 11,
   "id": "01046dcc",
   "metadata": {},
   "outputs": [
    {
     "data": {
      "text/plain": [
       "Car_Name          object\n",
       "Year               int64\n",
       "Selling_Price    float64\n",
       "Present_Price    float64\n",
       "Kms_Driven         int64\n",
       "Fuel_Type         object\n",
       "Seller_Type       object\n",
       "Transmission      object\n",
       "Owner              int64\n",
       "dtype: object"
      ]
     },
     "execution_count": 11,
     "metadata": {},
     "output_type": "execute_result"
    }
   ],
   "source": [
    "df.dtypes"
   ]
  },
  {
   "cell_type": "markdown",
   "id": "f15cae9a",
   "metadata": {},
   "source": [
    "# DATA VISUALIZATION"
   ]
  },
  {
   "cell_type": "code",
   "execution_count": 13,
   "id": "2f1ea6dc",
   "metadata": {},
   "outputs": [
    {
     "data": {
      "image/png": "[encoded data removed]",
      "text/plain": [
       "<Figure size 432x288 with 1 Axes>"
      ]
     },
     "metadata": {
      "needs_background": "light"
     },
     "output_type": "display_data"
    }
   ],
   "source": [
    "sns.barplot(x=\"Year\",y=\"Selling_Price\", data=df)\n",
    "plt.xticks(rotation=90)\n",
    "plt.show()"
   ]
  },
  {
   "cell_type": "code",
   "execution_count": 15,
   "id": "1dd27159",
   "metadata": {},
   "outputs": [],
   "source": [
    "# Year 2018 has highest selling price"
   ]
  },
  {
   "cell_type": "code",
   "execution_count": 36,
   "id": "50aae6b9",
   "metadata": {},
   "outputs": [
    {
     "data": {
      "image/png": "[encoded data removed]",
      "text/plain": [
       "<Figure size 432x288 with 1 Axes>"
      ]
     },
     "metadata": {
      "needs_background": "light"
     },
     "output_type": "display_data"
    }
   ],
   "source": [
    "sns.countplot(data=df,x=\"Fuel_Type\",palette= [\"#7fcdbb\",                 \"#edf8b1\"])\n",
    "plt.title(\"FUEL TYPE OF CARS\")\n",
    "plt.xticks(rotation=90)\n",
    "plt.show()"
   ]
  },
  {
   "cell_type": "code",
   "execution_count": 19,
   "id": "b485c0a0",
   "metadata": {},
   "outputs": [],
   "source": [
    "# Most of the cars have petrol engine followed by diesel and CNG."
   ]
  },
  {
   "cell_type": "code",
   "execution_count": 37,
   "id": "0d6bf886",
   "metadata": {},
   "outputs": [
    {
     "data": {
      "image/png": "[encoded data removed]",
      "text/plain": [
       "<Figure size 432x288 with 1 Axes>"
      ]
     },
     "metadata": {
      "needs_background": "light"
     },
     "output_type": "display_data"
    }
   ],
   "source": [
    "plt.title(\"Kms_Driven \")\n",
    "sns.histplot(x=\"Kms_Driven\",data=df,kde=True,color=\"red\")\n",
    "plt.xticks(rotation=90)\n",
    "plt.show()"
   ]
  },
  {
   "cell_type": "code",
   "execution_count": 38,
   "id": "42b7dbf0",
   "metadata": {},
   "outputs": [
    {
     "data": {
      "image/png": "[encoded data removed]",
      "text/plain": [
       "<Figure size 432x288 with 1 Axes>"
      ]
     },
     "metadata": {
      "needs_background": "light"
     },
     "output_type": "display_data"
    }
   ],
   "source": [
    "sns.countplot(data=df,x=\"Seller_Type\",palette=[\"#fc9272\",         \"#fee0d2\"])\n",
    "plt.title(\"Cars Seller_Type\")\n",
    "plt.xticks(rotation=90)\n",
    "plt.show()"
   ]
  },
  {
   "cell_type": "code",
   "execution_count": 29,
   "id": "f0d5d060",
   "metadata": {},
   "outputs": [],
   "source": [
    "# Most of the cars are sold through DEALERS."
   ]
  },
  {
   "cell_type": "code",
   "execution_count": 40,
   "id": "80893e19",
   "metadata": {},
   "outputs": [
    {
     "data": {
      "image/png": "[encoded data removed]",
      "text/plain": [
       "<Figure size 432x288 with 1 Axes>"
      ]
     },
     "metadata": {
      "needs_background": "light"
     },
     "output_type": "display_data"
    }
   ],
   "source": [
    "sns.countplot(data=df,x=\"Transmission\")\n",
    "plt.title(\"Transmission of cars\")\n",
    "plt.xticks(rotation=90)\n",
    "plt.show()"
   ]
  },
  {
   "cell_type": "code",
   "execution_count": 31,
   "id": "bd0b84db",
   "metadata": {},
   "outputs": [],
   "source": [
    "# Most of the cars are MANUAL TYPE."
   ]
  },
  {
   "cell_type": "markdown",
   "id": "94052452",
   "metadata": {},
   "source": [
    "# PAIR PLOT"
   ]
  },
  {
   "cell_type": "code",
   "execution_count": 35,
   "id": "f7a64fe8",
   "metadata": {},
   "outputs": [
    {
     "data": {
      "text/plain": [
       "<seaborn.axisgrid.PairGrid at 0x1a4528a2550>"
      ]
     },
     "execution_count": 35,
     "metadata": {},
     "output_type": "execute_result"
    },
    {
     "data": {
      "image/png": "[encoded data removed]",
      "text/plain": [
       "<Figure size 900x900 with 30 Axes>"
      ]
     },
     "metadata": {
      "needs_background": "light"
     },
     "output_type": "display_data"
    }
   ],
   "source": [
    "sns.pairplot(df)"
   ]
  },
  {
   "cell_type": "markdown",
   "id": "eacf5280",
   "metadata": {},
   "source": [
    "# HEAT MAP"
   ]
  },
  {
   "cell_type": "code",
   "execution_count": 42,
   "id": "9772fb53",
   "metadata": {},
   "outputs": [
    {
     "data": {
      "image/png": "[encoded data removed]",
      "text/plain": [
       "<Figure size 1008x432 with 2 Axes>"
      ]
     },
     "metadata": {
      "needs_background": "light"
     },
     "output_type": "display_data"
    }
   ],
   "source": [
    "plt.subplots(figsize=(14, 6))\n",
    "sns.heatmap(df.corr(),annot=True,cmap='copper')\n",
    "plt.show()"
   ]
  },
  {
   "cell_type": "code",
   "execution_count": 34,
   "id": "14031c61",
   "metadata": {},
   "outputs": [],
   "source": [
    "# selling price and present price are highly positively correlated."
   ]
  },
  {
   "cell_type": "markdown",
   "id": "0a0005a8",
   "metadata": {},
   "source": [
    "# FEATURE ENGINEERING"
   ]
  },
  {
   "cell_type": "markdown",
   "id": "a53611a9",
   "metadata": {},
   "source": [
    "# FIND THE NULL VALUES"
   ]
  },
  {
   "cell_type": "code",
   "execution_count": 17,
   "id": "8996b622",
   "metadata": {},
   "outputs": [
    {
     "data": {
      "text/plain": [
       "Car_Name         0\n",
       "Year             0\n",
       "Selling_Price    0\n",
       "Present_Price    0\n",
       "Kms_Driven       0\n",
       "Fuel_Type        0\n",
       "Seller_Type      0\n",
       "Transmission     0\n",
       "Owner            0\n",
       "dtype: int64"
      ]
     },
     "execution_count": 17,
     "metadata": {},
     "output_type": "execute_result"
    }
   ],
   "source": [
    "df.isnull().sum()"
   ]
  },
  {
   "cell_type": "code",
   "execution_count": 18,
   "id": "3875dbb0",
   "metadata": {},
   "outputs": [],
   "source": [
    "# from above we can conclude that there are no null values"
   ]
  },
  {
   "cell_type": "markdown",
   "id": "165018d0",
   "metadata": {},
   "source": [
    "# LABEL ENCODING"
   ]
  },
  {
   "cell_type": "code",
   "execution_count": 19,
   "id": "13ba26bf",
   "metadata": {},
   "outputs": [],
   "source": [
    "# To convert object data type into numeric data type"
   ]
  },
  {
   "cell_type": "code",
   "execution_count": 20,
   "id": "94484e4a",
   "metadata": {},
   "outputs": [],
   "source": [
    "from sklearn.preprocessing import LabelEncoder\n",
    "le=LabelEncoder()\n",
    "def label_encoder(dataframe):\n",
    "    for i in dataframe.columns:\n",
    "        if dataframe[i].dtypes==\"object\" or dataframe[i].dtypes==\"bool\":\n",
    "            dataframe[i]=le.fit_transform(dataframe[i])\n",
    "    return dataframe"
   ]
  },
  {
   "cell_type": "code",
   "execution_count": 21,
   "id": "b630b2ff",
   "metadata": {},
   "outputs": [
    {
     "data": {
      "text/html": [
       "<div>\n",
       "<style scoped>\n",
       "    .dataframe tbody tr th:only-of-type {\n",
       "        vertical-align: middle;\n",
       "    }\n",
       "\n",
       "    .dataframe tbody tr th {\n",
       "        vertical-align: top;\n",
       "    }\n",
       "\n",
       "    .dataframe thead th {\n",
       "        text-align: right;\n",
       "    }\n",
       "</style>\n",
       "<table border=\"1\" class=\"dataframe\">\n",
       "  <thead>\n",
       "    <tr style=\"text-align: right;\">\n",
       "      <th></th>\n",
       "      <th>Car_Name</th>\n",
       "      <th>Year</th>\n",
       "      <th>Selling_Price</th>\n",
       "      <th>Present_Price</th>\n",
       "      <th>Kms_Driven</th>\n",
       "      <th>Fuel_Type</th>\n",
       "      <th>Seller_Type</th>\n",
       "      <th>Transmission</th>\n",
       "      <th>Owner</th>\n",
       "    </tr>\n",
       "  </thead>\n",
       "  <tbody>\n",
       "    <tr>\n",
       "      <th>0</th>\n",
       "      <td>90</td>\n",
       "      <td>2014</td>\n",
       "      <td>3.35</td>\n",
       "      <td>5.59</td>\n",
       "      <td>27000</td>\n",
       "      <td>2</td>\n",
       "      <td>0</td>\n",
       "      <td>1</td>\n",
       "      <td>0</td>\n",
       "    </tr>\n",
       "    <tr>\n",
       "      <th>1</th>\n",
       "      <td>93</td>\n",
       "      <td>2013</td>\n",
       "      <td>4.75</td>\n",
       "      <td>9.54</td>\n",
       "      <td>43000</td>\n",
       "      <td>1</td>\n",
       "      <td>0</td>\n",
       "      <td>1</td>\n",
       "      <td>0</td>\n",
       "    </tr>\n",
       "    <tr>\n",
       "      <th>2</th>\n",
       "      <td>68</td>\n",
       "      <td>2017</td>\n",
       "      <td>7.25</td>\n",
       "      <td>9.85</td>\n",
       "      <td>6900</td>\n",
       "      <td>2</td>\n",
       "      <td>0</td>\n",
       "      <td>1</td>\n",
       "      <td>0</td>\n",
       "    </tr>\n",
       "    <tr>\n",
       "      <th>3</th>\n",
       "      <td>96</td>\n",
       "      <td>2011</td>\n",
       "      <td>2.85</td>\n",
       "      <td>4.15</td>\n",
       "      <td>5200</td>\n",
       "      <td>2</td>\n",
       "      <td>0</td>\n",
       "      <td>1</td>\n",
       "      <td>0</td>\n",
       "    </tr>\n",
       "    <tr>\n",
       "      <th>4</th>\n",
       "      <td>92</td>\n",
       "      <td>2014</td>\n",
       "      <td>4.60</td>\n",
       "      <td>6.87</td>\n",
       "      <td>42450</td>\n",
       "      <td>1</td>\n",
       "      <td>0</td>\n",
       "      <td>1</td>\n",
       "      <td>0</td>\n",
       "    </tr>\n",
       "    <tr>\n",
       "      <th>...</th>\n",
       "      <td>...</td>\n",
       "      <td>...</td>\n",
       "      <td>...</td>\n",
       "      <td>...</td>\n",
       "      <td>...</td>\n",
       "      <td>...</td>\n",
       "      <td>...</td>\n",
       "      <td>...</td>\n",
       "      <td>...</td>\n",
       "    </tr>\n",
       "    <tr>\n",
       "      <th>296</th>\n",
       "      <td>69</td>\n",
       "      <td>2016</td>\n",
       "      <td>9.50</td>\n",
       "      <td>11.60</td>\n",
       "      <td>33988</td>\n",
       "      <td>1</td>\n",
       "      <td>0</td>\n",
       "      <td>1</td>\n",
       "      <td>0</td>\n",
       "    </tr>\n",
       "    <tr>\n",
       "      <th>297</th>\n",
       "      <td>66</td>\n",
       "      <td>2015</td>\n",
       "      <td>4.00</td>\n",
       "      <td>5.90</td>\n",
       "      <td>60000</td>\n",
       "      <td>2</td>\n",
       "      <td>0</td>\n",
       "      <td>1</td>\n",
       "      <td>0</td>\n",
       "    </tr>\n",
       "    <tr>\n",
       "      <th>298</th>\n",
       "      <td>69</td>\n",
       "      <td>2009</td>\n",
       "      <td>3.35</td>\n",
       "      <td>11.00</td>\n",
       "      <td>87934</td>\n",
       "      <td>2</td>\n",
       "      <td>0</td>\n",
       "      <td>1</td>\n",
       "      <td>0</td>\n",
       "    </tr>\n",
       "    <tr>\n",
       "      <th>299</th>\n",
       "      <td>69</td>\n",
       "      <td>2017</td>\n",
       "      <td>11.50</td>\n",
       "      <td>12.50</td>\n",
       "      <td>9000</td>\n",
       "      <td>1</td>\n",
       "      <td>0</td>\n",
       "      <td>1</td>\n",
       "      <td>0</td>\n",
       "    </tr>\n",
       "    <tr>\n",
       "      <th>300</th>\n",
       "      <td>66</td>\n",
       "      <td>2016</td>\n",
       "      <td>5.30</td>\n",
       "      <td>5.90</td>\n",
       "      <td>5464</td>\n",
       "      <td>2</td>\n",
       "      <td>0</td>\n",
       "      <td>1</td>\n",
       "      <td>0</td>\n",
       "    </tr>\n",
       "  </tbody>\n",
       "</table>\n",
       "<p>301 rows × 9 columns</p>\n",
       "</div>"
      ],
      "text/plain": [
       "     Car_Name  Year  Selling_Price  Present_Price  Kms_Driven  Fuel_Type  \\\n",
       "0          90  2014           3.35           5.59       27000          2   \n",
       "1          93  2013           4.75           9.54       43000          1   \n",
       "2          68  2017           7.25           9.85        6900          2   \n",
       "3          96  2011           2.85           4.15        5200          2   \n",
       "4          92  2014           4.60           6.87       42450          1   \n",
       "..        ...   ...            ...            ...         ...        ...   \n",
       "296        69  2016           9.50          11.60       33988          1   \n",
       "297        66  2015           4.00           5.90       60000          2   \n",
       "298        69  2009           3.35          11.00       87934          2   \n",
       "299        69  2017          11.50          12.50        9000          1   \n",
       "300        66  2016           5.30           5.90        5464          2   \n",
       "\n",
       "     Seller_Type  Transmission  Owner  \n",
       "0              0             1      0  \n",
       "1              0             1      0  \n",
       "2              0             1      0  \n",
       "3              0             1      0  \n",
       "4              0             1      0  \n",
       "..           ...           ...    ...  \n",
       "296            0             1      0  \n",
       "297            0             1      0  \n",
       "298            0             1      0  \n",
       "299            0             1      0  \n",
       "300            0             1      0  \n",
       "\n",
       "[301 rows x 9 columns]"
      ]
     },
     "execution_count": 21,
     "metadata": {},
     "output_type": "execute_result"
    }
   ],
   "source": [
    "df_updated= label_encoder(df)\n",
    "df_updated"
   ]
  },
  {
   "cell_type": "markdown",
   "id": "a94799d2",
   "metadata": {},
   "source": [
    "# DETECTING OUTLIERS"
   ]
  },
  {
   "cell_type": "code",
   "execution_count": 22,
   "id": "23b5dec0",
   "metadata": {},
   "outputs": [],
   "source": [
    "def visualize_outliers(dataframe):\n",
    "    for i in dataframe.columns:\n",
    "        if dataframe[i].dtypes==\"float64\" or dataframe[i].dtypes==\"int64\":\n",
    "            sns.boxplot(y=i, data=df_updated)\n",
    "            plt.show()\n",
    "    return dataframe"
   ]
  },
  {
   "cell_type": "code",
   "execution_count": 23,
   "id": "68aaa556",
   "metadata": {},
   "outputs": [
    {
     "data": {
      "image/png": "[encoded data removed]",
      "text/plain": [
       "<Figure size 432x288 with 1 Axes>"
      ]
     },
     "metadata": {
      "needs_background": "light"
     },
     "output_type": "display_data"
    },
    {
     "data": {
      "image/png": "[encoded data removed]",
      "text/plain": [
       "<Figure size 432x288 with 1 Axes>"
      ]
     },
     "metadata": {
      "needs_background": "light"
     },
     "output_type": "display_data"
    },
    {
     "data": {
      "image/png": "[encoded data removed]",
      "text/plain": [
       "<Figure size 432x288 with 1 Axes>"
      ]
     },
     "metadata": {
      "needs_background": "light"
     },
     "output_type": "display_data"
    },
    {
     "data": {
      "image/png": "[encoded data removed]",
      "text/plain": [
       "<Figure size 432x288 with 1 Axes>"
      ]
     },
     "metadata": {
      "needs_background": "light"
     },
     "output_type": "display_data"
    },
    {
     "data": {
      "image/png": "[encoded data removed]",
      "text/plain": [
       "<Figure size 432x288 with 1 Axes>"
      ]
     },
     "metadata": {
      "needs_background": "light"
     },
     "output_type": "display_data"
    },
    {
     "data": {
      "text/html": [
       "<div>\n",
       "<style scoped>\n",
       "    .dataframe tbody tr th:only-of-type {\n",
       "        vertical-align: middle;\n",
       "    }\n",
       "\n",
       "    .dataframe tbody tr th {\n",
       "        vertical-align: top;\n",
       "    }\n",
       "\n",
       "    .dataframe thead th {\n",
       "        text-align: right;\n",
       "    }\n",
       "</style>\n",
       "<table border=\"1\" class=\"dataframe\">\n",
       "  <thead>\n",
       "    <tr style=\"text-align: right;\">\n",
       "      <th></th>\n",
       "      <th>Car_Name</th>\n",
       "      <th>Year</th>\n",
       "      <th>Selling_Price</th>\n",
       "      <th>Present_Price</th>\n",
       "      <th>Kms_Driven</th>\n",
       "      <th>Fuel_Type</th>\n",
       "      <th>Seller_Type</th>\n",
       "      <th>Transmission</th>\n",
       "      <th>Owner</th>\n",
       "    </tr>\n",
       "  </thead>\n",
       "  <tbody>\n",
       "    <tr>\n",
       "      <th>0</th>\n",
       "      <td>90</td>\n",
       "      <td>2014</td>\n",
       "      <td>3.35</td>\n",
       "      <td>5.59</td>\n",
       "      <td>27000</td>\n",
       "      <td>2</td>\n",
       "      <td>0</td>\n",
       "      <td>1</td>\n",
       "      <td>0</td>\n",
       "    </tr>\n",
       "    <tr>\n",
       "      <th>1</th>\n",
       "      <td>93</td>\n",
       "      <td>2013</td>\n",
       "      <td>4.75</td>\n",
       "      <td>9.54</td>\n",
       "      <td>43000</td>\n",
       "      <td>1</td>\n",
       "      <td>0</td>\n",
       "      <td>1</td>\n",
       "      <td>0</td>\n",
       "    </tr>\n",
       "    <tr>\n",
       "      <th>2</th>\n",
       "      <td>68</td>\n",
       "      <td>2017</td>\n",
       "      <td>7.25</td>\n",
       "      <td>9.85</td>\n",
       "      <td>6900</td>\n",
       "      <td>2</td>\n",
       "      <td>0</td>\n",
       "      <td>1</td>\n",
       "      <td>0</td>\n",
       "    </tr>\n",
       "    <tr>\n",
       "      <th>3</th>\n",
       "      <td>96</td>\n",
       "      <td>2011</td>\n",
       "      <td>2.85</td>\n",
       "      <td>4.15</td>\n",
       "      <td>5200</td>\n",
       "      <td>2</td>\n",
       "      <td>0</td>\n",
       "      <td>1</td>\n",
       "      <td>0</td>\n",
       "    </tr>\n",
       "    <tr>\n",
       "      <th>4</th>\n",
       "      <td>92</td>\n",
       "      <td>2014</td>\n",
       "      <td>4.60</td>\n",
       "      <td>6.87</td>\n",
       "      <td>42450</td>\n",
       "      <td>1</td>\n",
       "      <td>0</td>\n",
       "      <td>1</td>\n",
       "      <td>0</td>\n",
       "    </tr>\n",
       "    <tr>\n",
       "      <th>...</th>\n",
       "      <td>...</td>\n",
       "      <td>...</td>\n",
       "      <td>...</td>\n",
       "      <td>...</td>\n",
       "      <td>...</td>\n",
       "      <td>...</td>\n",
       "      <td>...</td>\n",
       "      <td>...</td>\n",
       "      <td>...</td>\n",
       "    </tr>\n",
       "    <tr>\n",
       "      <th>296</th>\n",
       "      <td>69</td>\n",
       "      <td>2016</td>\n",
       "      <td>9.50</td>\n",
       "      <td>11.60</td>\n",
       "      <td>33988</td>\n",
       "      <td>1</td>\n",
       "      <td>0</td>\n",
       "      <td>1</td>\n",
       "      <td>0</td>\n",
       "    </tr>\n",
       "    <tr>\n",
       "      <th>297</th>\n",
       "      <td>66</td>\n",
       "      <td>2015</td>\n",
       "      <td>4.00</td>\n",
       "      <td>5.90</td>\n",
       "      <td>60000</td>\n",
       "      <td>2</td>\n",
       "      <td>0</td>\n",
       "      <td>1</td>\n",
       "      <td>0</td>\n",
       "    </tr>\n",
       "    <tr>\n",
       "      <th>298</th>\n",
       "      <td>69</td>\n",
       "      <td>2009</td>\n",
       "      <td>3.35</td>\n",
       "      <td>11.00</td>\n",
       "      <td>87934</td>\n",
       "      <td>2</td>\n",
       "      <td>0</td>\n",
       "      <td>1</td>\n",
       "      <td>0</td>\n",
       "    </tr>\n",
       "    <tr>\n",
       "      <th>299</th>\n",
       "      <td>69</td>\n",
       "      <td>2017</td>\n",
       "      <td>11.50</td>\n",
       "      <td>12.50</td>\n",
       "      <td>9000</td>\n",
       "      <td>1</td>\n",
       "      <td>0</td>\n",
       "      <td>1</td>\n",
       "      <td>0</td>\n",
       "    </tr>\n",
       "    <tr>\n",
       "      <th>300</th>\n",
       "      <td>66</td>\n",
       "      <td>2016</td>\n",
       "      <td>5.30</td>\n",
       "      <td>5.90</td>\n",
       "      <td>5464</td>\n",
       "      <td>2</td>\n",
       "      <td>0</td>\n",
       "      <td>1</td>\n",
       "      <td>0</td>\n",
       "    </tr>\n",
       "  </tbody>\n",
       "</table>\n",
       "<p>301 rows × 9 columns</p>\n",
       "</div>"
      ],
      "text/plain": [
       "     Car_Name  Year  Selling_Price  Present_Price  Kms_Driven  Fuel_Type  \\\n",
       "0          90  2014           3.35           5.59       27000          2   \n",
       "1          93  2013           4.75           9.54       43000          1   \n",
       "2          68  2017           7.25           9.85        6900          2   \n",
       "3          96  2011           2.85           4.15        5200          2   \n",
       "4          92  2014           4.60           6.87       42450          1   \n",
       "..        ...   ...            ...            ...         ...        ...   \n",
       "296        69  2016           9.50          11.60       33988          1   \n",
       "297        66  2015           4.00           5.90       60000          2   \n",
       "298        69  2009           3.35          11.00       87934          2   \n",
       "299        69  2017          11.50          12.50        9000          1   \n",
       "300        66  2016           5.30           5.90        5464          2   \n",
       "\n",
       "     Seller_Type  Transmission  Owner  \n",
       "0              0             1      0  \n",
       "1              0             1      0  \n",
       "2              0             1      0  \n",
       "3              0             1      0  \n",
       "4              0             1      0  \n",
       "..           ...           ...    ...  \n",
       "296            0             1      0  \n",
       "297            0             1      0  \n",
       "298            0             1      0  \n",
       "299            0             1      0  \n",
       "300            0             1      0  \n",
       "\n",
       "[301 rows x 9 columns]"
      ]
     },
     "execution_count": 23,
     "metadata": {},
     "output_type": "execute_result"
    }
   ],
   "source": [
    "df_updated1= visualize_outliers(df_updated)\n",
    "df_updated1"
   ]
  },
  {
   "cell_type": "code",
   "execution_count": 24,
   "id": "14fa94af",
   "metadata": {},
   "outputs": [],
   "source": [
    "# from above we can visualize outliers, inorder to remove outliers we use zscore method."
   ]
  },
  {
   "cell_type": "markdown",
   "id": "9040566a",
   "metadata": {},
   "source": [
    "# Remove Outliers Using zscore Method"
   ]
  },
  {
   "cell_type": "code",
   "execution_count": 25,
   "id": "4f1de7d1",
   "metadata": {},
   "outputs": [],
   "source": [
    "# zscore method"
   ]
  },
  {
   "cell_type": "code",
   "execution_count": 26,
   "id": "05de7915",
   "metadata": {},
   "outputs": [],
   "source": [
    "from scipy import stats\n",
    "from scipy.stats import zscore\n",
    "import numpy as np"
   ]
  },
  {
   "cell_type": "code",
   "execution_count": 27,
   "id": "e76e27e6",
   "metadata": {},
   "outputs": [],
   "source": [
    "def remove_outliers(dataframe):\n",
    "    Z_S= np.abs(zscore(dataframe))\n",
    "    updated_data= dataframe[(Z_S<3).all(axis=1)]\n",
    "    return updated_data"
   ]
  },
  {
   "cell_type": "code",
   "execution_count": 28,
   "id": "7c67251d",
   "metadata": {},
   "outputs": [
    {
     "data": {
      "text/html": [
       "<div>\n",
       "<style scoped>\n",
       "    .dataframe tbody tr th:only-of-type {\n",
       "        vertical-align: middle;\n",
       "    }\n",
       "\n",
       "    .dataframe tbody tr th {\n",
       "        vertical-align: top;\n",
       "    }\n",
       "\n",
       "    .dataframe thead th {\n",
       "        text-align: right;\n",
       "    }\n",
       "</style>\n",
       "<table border=\"1\" class=\"dataframe\">\n",
       "  <thead>\n",
       "    <tr style=\"text-align: right;\">\n",
       "      <th></th>\n",
       "      <th>Car_Name</th>\n",
       "      <th>Year</th>\n",
       "      <th>Selling_Price</th>\n",
       "      <th>Present_Price</th>\n",
       "      <th>Kms_Driven</th>\n",
       "      <th>Fuel_Type</th>\n",
       "      <th>Seller_Type</th>\n",
       "      <th>Transmission</th>\n",
       "      <th>Owner</th>\n",
       "    </tr>\n",
       "  </thead>\n",
       "  <tbody>\n",
       "    <tr>\n",
       "      <th>0</th>\n",
       "      <td>90</td>\n",
       "      <td>2014</td>\n",
       "      <td>3.35</td>\n",
       "      <td>5.59</td>\n",
       "      <td>27000</td>\n",
       "      <td>2</td>\n",
       "      <td>0</td>\n",
       "      <td>1</td>\n",
       "      <td>0</td>\n",
       "    </tr>\n",
       "    <tr>\n",
       "      <th>1</th>\n",
       "      <td>93</td>\n",
       "      <td>2013</td>\n",
       "      <td>4.75</td>\n",
       "      <td>9.54</td>\n",
       "      <td>43000</td>\n",
       "      <td>1</td>\n",
       "      <td>0</td>\n",
       "      <td>1</td>\n",
       "      <td>0</td>\n",
       "    </tr>\n",
       "    <tr>\n",
       "      <th>2</th>\n",
       "      <td>68</td>\n",
       "      <td>2017</td>\n",
       "      <td>7.25</td>\n",
       "      <td>9.85</td>\n",
       "      <td>6900</td>\n",
       "      <td>2</td>\n",
       "      <td>0</td>\n",
       "      <td>1</td>\n",
       "      <td>0</td>\n",
       "    </tr>\n",
       "    <tr>\n",
       "      <th>3</th>\n",
       "      <td>96</td>\n",
       "      <td>2011</td>\n",
       "      <td>2.85</td>\n",
       "      <td>4.15</td>\n",
       "      <td>5200</td>\n",
       "      <td>2</td>\n",
       "      <td>0</td>\n",
       "      <td>1</td>\n",
       "      <td>0</td>\n",
       "    </tr>\n",
       "    <tr>\n",
       "      <th>4</th>\n",
       "      <td>92</td>\n",
       "      <td>2014</td>\n",
       "      <td>4.60</td>\n",
       "      <td>6.87</td>\n",
       "      <td>42450</td>\n",
       "      <td>1</td>\n",
       "      <td>0</td>\n",
       "      <td>1</td>\n",
       "      <td>0</td>\n",
       "    </tr>\n",
       "    <tr>\n",
       "      <th>...</th>\n",
       "      <td>...</td>\n",
       "      <td>...</td>\n",
       "      <td>...</td>\n",
       "      <td>...</td>\n",
       "      <td>...</td>\n",
       "      <td>...</td>\n",
       "      <td>...</td>\n",
       "      <td>...</td>\n",
       "      <td>...</td>\n",
       "    </tr>\n",
       "    <tr>\n",
       "      <th>296</th>\n",
       "      <td>69</td>\n",
       "      <td>2016</td>\n",
       "      <td>9.50</td>\n",
       "      <td>11.60</td>\n",
       "      <td>33988</td>\n",
       "      <td>1</td>\n",
       "      <td>0</td>\n",
       "      <td>1</td>\n",
       "      <td>0</td>\n",
       "    </tr>\n",
       "    <tr>\n",
       "      <th>297</th>\n",
       "      <td>66</td>\n",
       "      <td>2015</td>\n",
       "      <td>4.00</td>\n",
       "      <td>5.90</td>\n",
       "      <td>60000</td>\n",
       "      <td>2</td>\n",
       "      <td>0</td>\n",
       "      <td>1</td>\n",
       "      <td>0</td>\n",
       "    </tr>\n",
       "    <tr>\n",
       "      <th>298</th>\n",
       "      <td>69</td>\n",
       "      <td>2009</td>\n",
       "      <td>3.35</td>\n",
       "      <td>11.00</td>\n",
       "      <td>87934</td>\n",
       "      <td>2</td>\n",
       "      <td>0</td>\n",
       "      <td>1</td>\n",
       "      <td>0</td>\n",
       "    </tr>\n",
       "    <tr>\n",
       "      <th>299</th>\n",
       "      <td>69</td>\n",
       "      <td>2017</td>\n",
       "      <td>11.50</td>\n",
       "      <td>12.50</td>\n",
       "      <td>9000</td>\n",
       "      <td>1</td>\n",
       "      <td>0</td>\n",
       "      <td>1</td>\n",
       "      <td>0</td>\n",
       "    </tr>\n",
       "    <tr>\n",
       "      <th>300</th>\n",
       "      <td>66</td>\n",
       "      <td>2016</td>\n",
       "      <td>5.30</td>\n",
       "      <td>5.90</td>\n",
       "      <td>5464</td>\n",
       "      <td>2</td>\n",
       "      <td>0</td>\n",
       "      <td>1</td>\n",
       "      <td>0</td>\n",
       "    </tr>\n",
       "  </tbody>\n",
       "</table>\n",
       "<p>273 rows × 9 columns</p>\n",
       "</div>"
      ],
      "text/plain": [
       "     Car_Name  Year  Selling_Price  Present_Price  Kms_Driven  Fuel_Type  \\\n",
       "0          90  2014           3.35           5.59       27000          2   \n",
       "1          93  2013           4.75           9.54       43000          1   \n",
       "2          68  2017           7.25           9.85        6900          2   \n",
       "3          96  2011           2.85           4.15        5200          2   \n",
       "4          92  2014           4.60           6.87       42450          1   \n",
       "..        ...   ...            ...            ...         ...        ...   \n",
       "296        69  2016           9.50          11.60       33988          1   \n",
       "297        66  2015           4.00           5.90       60000          2   \n",
       "298        69  2009           3.35          11.00       87934          2   \n",
       "299        69  2017          11.50          12.50        9000          1   \n",
       "300        66  2016           5.30           5.90        5464          2   \n",
       "\n",
       "     Seller_Type  Transmission  Owner  \n",
       "0              0             1      0  \n",
       "1              0             1      0  \n",
       "2              0             1      0  \n",
       "3              0             1      0  \n",
       "4              0             1      0  \n",
       "..           ...           ...    ...  \n",
       "296            0             1      0  \n",
       "297            0             1      0  \n",
       "298            0             1      0  \n",
       "299            0             1      0  \n",
       "300            0             1      0  \n",
       "\n",
       "[273 rows x 9 columns]"
      ]
     },
     "execution_count": 28,
     "metadata": {},
     "output_type": "execute_result"
    }
   ],
   "source": [
    "df_updated2= remove_outliers(df_updated)\n",
    "df_updated2"
   ]
  },
  {
   "cell_type": "markdown",
   "id": "8e060f11",
   "metadata": {},
   "source": [
    "# Scaling Of Data Using MinMaxScaler"
   ]
  },
  {
   "cell_type": "code",
   "execution_count": 29,
   "id": "c44c6168",
   "metadata": {},
   "outputs": [],
   "source": [
    "from sklearn.preprocessing import MinMaxScaler\n",
    "mms= MinMaxScaler()"
   ]
  },
  {
   "cell_type": "code",
   "execution_count": 30,
   "id": "904182cd",
   "metadata": {},
   "outputs": [],
   "source": [
    "def scaling_data(dataframe):\n",
    "    array_data=mms.fit_transform(dataframe)\n",
    "    dataframe= pd.DataFrame(array_data, columns=dataframe.columns)\n",
    "    return dataframe"
   ]
  },
  {
   "cell_type": "code",
   "execution_count": 31,
   "id": "660d1ae0",
   "metadata": {},
   "outputs": [
    {
     "data": {
      "text/html": [
       "<div>\n",
       "<style scoped>\n",
       "    .dataframe tbody tr th:only-of-type {\n",
       "        vertical-align: middle;\n",
       "    }\n",
       "\n",
       "    .dataframe tbody tr th {\n",
       "        vertical-align: top;\n",
       "    }\n",
       "\n",
       "    .dataframe thead th {\n",
       "        text-align: right;\n",
       "    }\n",
       "</style>\n",
       "<table border=\"1\" class=\"dataframe\">\n",
       "  <thead>\n",
       "    <tr style=\"text-align: right;\">\n",
       "      <th></th>\n",
       "      <th>Car_Name</th>\n",
       "      <th>Year</th>\n",
       "      <th>Selling_Price</th>\n",
       "      <th>Present_Price</th>\n",
       "      <th>Kms_Driven</th>\n",
       "      <th>Fuel_Type</th>\n",
       "      <th>Seller_Type</th>\n",
       "      <th>Transmission</th>\n",
       "      <th>Owner</th>\n",
       "    </tr>\n",
       "  </thead>\n",
       "  <tbody>\n",
       "    <tr>\n",
       "      <th>0</th>\n",
       "      <td>0.927083</td>\n",
       "      <td>0.692308</td>\n",
       "      <td>0.165394</td>\n",
       "      <td>0.173985</td>\n",
       "      <td>0.197026</td>\n",
       "      <td>1.0</td>\n",
       "      <td>0.0</td>\n",
       "      <td>1.0</td>\n",
       "      <td>0.0</td>\n",
       "    </tr>\n",
       "    <tr>\n",
       "      <th>1</th>\n",
       "      <td>0.958333</td>\n",
       "      <td>0.615385</td>\n",
       "      <td>0.236641</td>\n",
       "      <td>0.304391</td>\n",
       "      <td>0.315985</td>\n",
       "      <td>0.0</td>\n",
       "      <td>0.0</td>\n",
       "      <td>1.0</td>\n",
       "      <td>0.0</td>\n",
       "    </tr>\n",
       "    <tr>\n",
       "      <th>2</th>\n",
       "      <td>0.697917</td>\n",
       "      <td>0.923077</td>\n",
       "      <td>0.363868</td>\n",
       "      <td>0.314625</td>\n",
       "      <td>0.047584</td>\n",
       "      <td>1.0</td>\n",
       "      <td>0.0</td>\n",
       "      <td>1.0</td>\n",
       "      <td>0.0</td>\n",
       "    </tr>\n",
       "    <tr>\n",
       "      <th>3</th>\n",
       "      <td>0.989583</td>\n",
       "      <td>0.461538</td>\n",
       "      <td>0.139949</td>\n",
       "      <td>0.126444</td>\n",
       "      <td>0.034944</td>\n",
       "      <td>1.0</td>\n",
       "      <td>0.0</td>\n",
       "      <td>1.0</td>\n",
       "      <td>0.0</td>\n",
       "    </tr>\n",
       "    <tr>\n",
       "      <th>4</th>\n",
       "      <td>0.947917</td>\n",
       "      <td>0.692308</td>\n",
       "      <td>0.229008</td>\n",
       "      <td>0.216243</td>\n",
       "      <td>0.311896</td>\n",
       "      <td>0.0</td>\n",
       "      <td>0.0</td>\n",
       "      <td>1.0</td>\n",
       "      <td>0.0</td>\n",
       "    </tr>\n",
       "    <tr>\n",
       "      <th>...</th>\n",
       "      <td>...</td>\n",
       "      <td>...</td>\n",
       "      <td>...</td>\n",
       "      <td>...</td>\n",
       "      <td>...</td>\n",
       "      <td>...</td>\n",
       "      <td>...</td>\n",
       "      <td>...</td>\n",
       "      <td>...</td>\n",
       "    </tr>\n",
       "    <tr>\n",
       "      <th>268</th>\n",
       "      <td>0.708333</td>\n",
       "      <td>0.846154</td>\n",
       "      <td>0.478372</td>\n",
       "      <td>0.372400</td>\n",
       "      <td>0.248981</td>\n",
       "      <td>0.0</td>\n",
       "      <td>0.0</td>\n",
       "      <td>1.0</td>\n",
       "      <td>0.0</td>\n",
       "    </tr>\n",
       "    <tr>\n",
       "      <th>269</th>\n",
       "      <td>0.677083</td>\n",
       "      <td>0.769231</td>\n",
       "      <td>0.198473</td>\n",
       "      <td>0.184219</td>\n",
       "      <td>0.442379</td>\n",
       "      <td>1.0</td>\n",
       "      <td>0.0</td>\n",
       "      <td>1.0</td>\n",
       "      <td>0.0</td>\n",
       "    </tr>\n",
       "    <tr>\n",
       "      <th>270</th>\n",
       "      <td>0.708333</td>\n",
       "      <td>0.307692</td>\n",
       "      <td>0.165394</td>\n",
       "      <td>0.352592</td>\n",
       "      <td>0.650067</td>\n",
       "      <td>1.0</td>\n",
       "      <td>0.0</td>\n",
       "      <td>1.0</td>\n",
       "      <td>0.0</td>\n",
       "    </tr>\n",
       "    <tr>\n",
       "      <th>271</th>\n",
       "      <td>0.708333</td>\n",
       "      <td>0.923077</td>\n",
       "      <td>0.580153</td>\n",
       "      <td>0.402113</td>\n",
       "      <td>0.063197</td>\n",
       "      <td>0.0</td>\n",
       "      <td>0.0</td>\n",
       "      <td>1.0</td>\n",
       "      <td>0.0</td>\n",
       "    </tr>\n",
       "    <tr>\n",
       "      <th>272</th>\n",
       "      <td>0.677083</td>\n",
       "      <td>0.846154</td>\n",
       "      <td>0.264631</td>\n",
       "      <td>0.184219</td>\n",
       "      <td>0.036907</td>\n",
       "      <td>1.0</td>\n",
       "      <td>0.0</td>\n",
       "      <td>1.0</td>\n",
       "      <td>0.0</td>\n",
       "    </tr>\n",
       "  </tbody>\n",
       "</table>\n",
       "<p>273 rows × 9 columns</p>\n",
       "</div>"
      ],
      "text/plain": [
       "     Car_Name      Year  Selling_Price  Present_Price  Kms_Driven  Fuel_Type  \\\n",
       "0    0.927083  0.692308       0.165394       0.173985    0.197026        1.0   \n",
       "1    0.958333  0.615385       0.236641       0.304391    0.315985        0.0   \n",
       "2    0.697917  0.923077       0.363868       0.314625    0.047584        1.0   \n",
       "3    0.989583  0.461538       0.139949       0.126444    0.034944        1.0   \n",
       "4    0.947917  0.692308       0.229008       0.216243    0.311896        0.0   \n",
       "..        ...       ...            ...            ...         ...        ...   \n",
       "268  0.708333  0.846154       0.478372       0.372400    0.248981        0.0   \n",
       "269  0.677083  0.769231       0.198473       0.184219    0.442379        1.0   \n",
       "270  0.708333  0.307692       0.165394       0.352592    0.650067        1.0   \n",
       "271  0.708333  0.923077       0.580153       0.402113    0.063197        0.0   \n",
       "272  0.677083  0.846154       0.264631       0.184219    0.036907        1.0   \n",
       "\n",
       "     Seller_Type  Transmission  Owner  \n",
       "0            0.0           1.0    0.0  \n",
       "1            0.0           1.0    0.0  \n",
       "2            0.0           1.0    0.0  \n",
       "3            0.0           1.0    0.0  \n",
       "4            0.0           1.0    0.0  \n",
       "..           ...           ...    ...  \n",
       "268          0.0           1.0    0.0  \n",
       "269          0.0           1.0    0.0  \n",
       "270          0.0           1.0    0.0  \n",
       "271          0.0           1.0    0.0  \n",
       "272          0.0           1.0    0.0  \n",
       "\n",
       "[273 rows x 9 columns]"
      ]
     },
     "execution_count": 31,
     "metadata": {},
     "output_type": "execute_result"
    }
   ],
   "source": [
    "df_updated3= scaling_data(df_updated2)\n",
    "df_updated3"
   ]
  },
  {
   "cell_type": "markdown",
   "id": "64731d78",
   "metadata": {},
   "source": [
    "# TRAINING AND TESTING OF DATA"
   ]
  },
  {
   "cell_type": "code",
   "execution_count": 32,
   "id": "ca1c4bd2",
   "metadata": {},
   "outputs": [],
   "source": [
    "from sklearn.model_selection import train_test_split\n",
    "def split(dataframe):\n",
    "    feature_col= dataframe.drop([\"Selling_Price\"],axis=1)\n",
    "    target_col= dataframe[\"Selling_Price\"]\n",
    "    x_train,x_test,y_train,y_test= train_test_split(feature_col,target_col,test_size=0.2,random_state=0,shuffle=True)\n",
    "    return x_train,x_test,y_train,y_test"
   ]
  },
  {
   "cell_type": "code",
   "execution_count": 33,
   "id": "f0d575af",
   "metadata": {},
   "outputs": [
    {
     "data": {
      "text/html": [
       "<div>\n",
       "<style scoped>\n",
       "    .dataframe tbody tr th:only-of-type {\n",
       "        vertical-align: middle;\n",
       "    }\n",
       "\n",
       "    .dataframe tbody tr th {\n",
       "        vertical-align: top;\n",
       "    }\n",
       "\n",
       "    .dataframe thead th {\n",
       "        text-align: right;\n",
       "    }\n",
       "</style>\n",
       "<table border=\"1\" class=\"dataframe\">\n",
       "  <thead>\n",
       "    <tr style=\"text-align: right;\">\n",
       "      <th></th>\n",
       "      <th>Car_Name</th>\n",
       "      <th>Year</th>\n",
       "      <th>Present_Price</th>\n",
       "      <th>Kms_Driven</th>\n",
       "      <th>Fuel_Type</th>\n",
       "      <th>Seller_Type</th>\n",
       "      <th>Transmission</th>\n",
       "      <th>Owner</th>\n",
       "    </tr>\n",
       "  </thead>\n",
       "  <tbody>\n",
       "    <tr>\n",
       "      <th>229</th>\n",
       "      <td>0.708333</td>\n",
       "      <td>0.769231</td>\n",
       "      <td>0.438429</td>\n",
       "      <td>0.296089</td>\n",
       "      <td>1.0</td>\n",
       "      <td>0.0</td>\n",
       "      <td>1.0</td>\n",
       "      <td>0.0</td>\n",
       "    </tr>\n",
       "    <tr>\n",
       "      <th>134</th>\n",
       "      <td>0.156250</td>\n",
       "      <td>0.538462</td>\n",
       "      <td>0.022120</td>\n",
       "      <td>0.092937</td>\n",
       "      <td>1.0</td>\n",
       "      <td>1.0</td>\n",
       "      <td>1.0</td>\n",
       "      <td>0.0</td>\n",
       "    </tr>\n",
       "    <tr>\n",
       "      <th>176</th>\n",
       "      <td>0.843750</td>\n",
       "      <td>0.769231</td>\n",
       "      <td>0.177616</td>\n",
       "      <td>0.205948</td>\n",
       "      <td>1.0</td>\n",
       "      <td>0.0</td>\n",
       "      <td>1.0</td>\n",
       "      <td>0.0</td>\n",
       "    </tr>\n",
       "    <tr>\n",
       "      <th>5</th>\n",
       "      <td>0.979167</td>\n",
       "      <td>1.000000</td>\n",
       "      <td>0.313965</td>\n",
       "      <td>0.011680</td>\n",
       "      <td>0.0</td>\n",
       "      <td>0.0</td>\n",
       "      <td>1.0</td>\n",
       "      <td>0.0</td>\n",
       "    </tr>\n",
       "    <tr>\n",
       "      <th>22</th>\n",
       "      <td>0.645833</td>\n",
       "      <td>0.692308</td>\n",
       "      <td>0.103665</td>\n",
       "      <td>0.332937</td>\n",
       "      <td>1.0</td>\n",
       "      <td>0.0</td>\n",
       "      <td>1.0</td>\n",
       "      <td>0.0</td>\n",
       "    </tr>\n",
       "    <tr>\n",
       "      <th>...</th>\n",
       "      <td>...</td>\n",
       "      <td>...</td>\n",
       "      <td>...</td>\n",
       "      <td>...</td>\n",
       "      <td>...</td>\n",
       "      <td>...</td>\n",
       "      <td>...</td>\n",
       "      <td>...</td>\n",
       "    </tr>\n",
       "    <tr>\n",
       "      <th>251</th>\n",
       "      <td>0.708333</td>\n",
       "      <td>0.692308</td>\n",
       "      <td>0.438429</td>\n",
       "      <td>0.294617</td>\n",
       "      <td>1.0</td>\n",
       "      <td>0.0</td>\n",
       "      <td>1.0</td>\n",
       "      <td>0.0</td>\n",
       "    </tr>\n",
       "    <tr>\n",
       "      <th>192</th>\n",
       "      <td>0.968750</td>\n",
       "      <td>0.538462</td>\n",
       "      <td>0.299769</td>\n",
       "      <td>0.263941</td>\n",
       "      <td>1.0</td>\n",
       "      <td>0.0</td>\n",
       "      <td>1.0</td>\n",
       "      <td>0.0</td>\n",
       "    </tr>\n",
       "    <tr>\n",
       "      <th>117</th>\n",
       "      <td>0.135417</td>\n",
       "      <td>0.769231</td>\n",
       "      <td>0.013866</td>\n",
       "      <td>0.033457</td>\n",
       "      <td>1.0</td>\n",
       "      <td>1.0</td>\n",
       "      <td>1.0</td>\n",
       "      <td>0.0</td>\n",
       "    </tr>\n",
       "    <tr>\n",
       "      <th>47</th>\n",
       "      <td>0.885417</td>\n",
       "      <td>0.923077</td>\n",
       "      <td>0.642126</td>\n",
       "      <td>0.107807</td>\n",
       "      <td>0.0</td>\n",
       "      <td>0.0</td>\n",
       "      <td>0.0</td>\n",
       "      <td>0.0</td>\n",
       "    </tr>\n",
       "    <tr>\n",
       "      <th>172</th>\n",
       "      <td>0.020833</td>\n",
       "      <td>0.769231</td>\n",
       "      <td>0.000000</td>\n",
       "      <td>0.256506</td>\n",
       "      <td>1.0</td>\n",
       "      <td>1.0</td>\n",
       "      <td>1.0</td>\n",
       "      <td>0.0</td>\n",
       "    </tr>\n",
       "  </tbody>\n",
       "</table>\n",
       "<p>218 rows × 8 columns</p>\n",
       "</div>"
      ],
      "text/plain": [
       "     Car_Name      Year  Present_Price  Kms_Driven  Fuel_Type  Seller_Type  \\\n",
       "229  0.708333  0.769231       0.438429    0.296089        1.0          0.0   \n",
       "134  0.156250  0.538462       0.022120    0.092937        1.0          1.0   \n",
       "176  0.843750  0.769231       0.177616    0.205948        1.0          0.0   \n",
       "5    0.979167  1.000000       0.313965    0.011680        0.0          0.0   \n",
       "22   0.645833  0.692308       0.103665    0.332937        1.0          0.0   \n",
       "..        ...       ...            ...         ...        ...          ...   \n",
       "251  0.708333  0.692308       0.438429    0.294617        1.0          0.0   \n",
       "192  0.968750  0.538462       0.299769    0.263941        1.0          0.0   \n",
       "117  0.135417  0.769231       0.013866    0.033457        1.0          1.0   \n",
       "47   0.885417  0.923077       0.642126    0.107807        0.0          0.0   \n",
       "172  0.020833  0.769231       0.000000    0.256506        1.0          1.0   \n",
       "\n",
       "     Transmission  Owner  \n",
       "229           1.0    0.0  \n",
       "134           1.0    0.0  \n",
       "176           1.0    0.0  \n",
       "5             1.0    0.0  \n",
       "22            1.0    0.0  \n",
       "..            ...    ...  \n",
       "251           1.0    0.0  \n",
       "192           1.0    0.0  \n",
       "117           1.0    0.0  \n",
       "47            0.0    0.0  \n",
       "172           1.0    0.0  \n",
       "\n",
       "[218 rows x 8 columns]"
      ]
     },
     "execution_count": 33,
     "metadata": {},
     "output_type": "execute_result"
    }
   ],
   "source": [
    "x_train,x_test,y_train,y_test= split(df_updated3)\n",
    "x_train"
   ]
  },
  {
   "cell_type": "code",
   "execution_count": 34,
   "id": "4032e9b6",
   "metadata": {},
   "outputs": [
    {
     "data": {
      "text/plain": [
       "229    0.427481\n",
       "134    0.020356\n",
       "176    0.218830\n",
       "5      0.465649\n",
       "22     0.122137\n",
       "         ...   \n",
       "251    0.312977\n",
       "192    0.223919\n",
       "117    0.027990\n",
       "47     0.910941\n",
       "172    0.004071\n",
       "Name: Selling_Price, Length: 218, dtype: float64"
      ]
     },
     "execution_count": 34,
     "metadata": {},
     "output_type": "execute_result"
    }
   ],
   "source": [
    "y_train"
   ]
  },
  {
   "cell_type": "code",
   "execution_count": 35,
   "id": "45d9efe0",
   "metadata": {},
   "outputs": [
    {
     "data": {
      "text/plain": [
       "(218, 8)"
      ]
     },
     "execution_count": 35,
     "metadata": {},
     "output_type": "execute_result"
    }
   ],
   "source": [
    "x_train.shape"
   ]
  },
  {
   "cell_type": "code",
   "execution_count": 36,
   "id": "d76deb56",
   "metadata": {},
   "outputs": [
    {
     "data": {
      "text/plain": [
       "(218,)"
      ]
     },
     "execution_count": 36,
     "metadata": {},
     "output_type": "execute_result"
    }
   ],
   "source": [
    "y_train.shape"
   ]
  },
  {
   "cell_type": "code",
   "execution_count": 37,
   "id": "bb669154",
   "metadata": {},
   "outputs": [
    {
     "data": {
      "text/plain": [
       "(55, 8)"
      ]
     },
     "execution_count": 37,
     "metadata": {},
     "output_type": "execute_result"
    }
   ],
   "source": [
    "x_test.shape"
   ]
  },
  {
   "cell_type": "code",
   "execution_count": 38,
   "id": "3ea3bfe5",
   "metadata": {},
   "outputs": [
    {
     "data": {
      "text/plain": [
       "(55,)"
      ]
     },
     "execution_count": 38,
     "metadata": {},
     "output_type": "execute_result"
    }
   ],
   "source": [
    "y_test.shape"
   ]
  },
  {
   "cell_type": "code",
   "execution_count": 39,
   "id": "9bbb4508",
   "metadata": {},
   "outputs": [],
   "source": [
    "# Here,the target column is Selling_Price which is a continous data hence we use regression algorithms for car price prediction."
   ]
  },
  {
   "cell_type": "code",
   "execution_count": 40,
   "id": "f20bfddb",
   "metadata": {},
   "outputs": [],
   "source": [
    "# The FOUR algorithms used for car price prediction :\n",
    "# 1. LINEAR REGRESSION\n",
    "# 2. RANDOM FOREST REGRESSOR\n",
    "# 3. DECISION TREE REGRESSOR \n",
    "# 4. SUPPORT VECTOR REGRESSOR\n",
    "# And selecting the best model among three for car price prediction. "
   ]
  },
  {
   "cell_type": "markdown",
   "id": "19780c0d",
   "metadata": {},
   "source": [
    "# LINEAR REGRESSION"
   ]
  },
  {
   "cell_type": "code",
   "execution_count": 41,
   "id": "1a96c7bb",
   "metadata": {},
   "outputs": [],
   "source": [
    "# It is simple and widely used algorithm that assumes a linear relationship between feature and target variable.It can provide\n",
    "# quick and interpretable results."
   ]
  },
  {
   "cell_type": "markdown",
   "id": "1bd728c6",
   "metadata": {},
   "source": [
    "# MODEL BUILDING"
   ]
  },
  {
   "cell_type": "code",
   "execution_count": 42,
   "id": "5cb4dc9b",
   "metadata": {},
   "outputs": [],
   "source": [
    "from sklearn.linear_model import LinearRegression\n",
    "lr= LinearRegression()"
   ]
  },
  {
   "cell_type": "markdown",
   "id": "3eca2683",
   "metadata": {},
   "source": [
    "# MODEL TRAINING"
   ]
  },
  {
   "cell_type": "code",
   "execution_count": 43,
   "id": "f3ebb020",
   "metadata": {},
   "outputs": [
    {
     "data": {
      "text/plain": [
       "LinearRegression()"
      ]
     },
     "execution_count": 43,
     "metadata": {},
     "output_type": "execute_result"
    }
   ],
   "source": [
    "lr.fit(x_train,y_train)"
   ]
  },
  {
   "cell_type": "code",
   "execution_count": 44,
   "id": "2eb13c06",
   "metadata": {},
   "outputs": [
    {
     "data": {
      "text/plain": [
       "0.006671601744829225"
      ]
     },
     "execution_count": 44,
     "metadata": {},
     "output_type": "execute_result"
    }
   ],
   "source": [
    "lr.intercept_"
   ]
  },
  {
   "cell_type": "code",
   "execution_count": 45,
   "id": "5c6a03fb",
   "metadata": {},
   "outputs": [
    {
     "data": {
      "text/plain": [
       "array([ 0.06156974,  0.19117642,  0.75669918, -0.19947723, -0.07841565,\n",
       "       -0.02475636, -0.00841664,  0.        ])"
      ]
     },
     "execution_count": 45,
     "metadata": {},
     "output_type": "execute_result"
    }
   ],
   "source": [
    "lr.coef_"
   ]
  },
  {
   "cell_type": "markdown",
   "id": "4e3f5279",
   "metadata": {},
   "source": [
    "# PREDICTIONS"
   ]
  },
  {
   "cell_type": "code",
   "execution_count": 46,
   "id": "afdb9ed2",
   "metadata": {},
   "outputs": [
    {
     "data": {
      "text/plain": [
       "array([ 0.18647796,  0.23057437,  0.34309821,  0.11570982,  0.17582983,\n",
       "       -0.07136419,  0.05084706,  0.15324782,  0.28090603,  0.13493412,\n",
       "        0.22069007,  0.41958614,  0.42249882,  0.01489254,  0.07451891,\n",
       "        0.40664876,  0.38775896,  0.0405477 ,  0.62381848,  0.20830887,\n",
       "        0.3176507 ,  0.09910311,  0.42052273,  0.04676175,  0.1303615 ,\n",
       "        0.36129756,  0.11145942,  0.29813495,  0.22439077,  0.39938592,\n",
       "        0.00361876,  0.03839716,  0.03344843,  0.27255907,  0.16233466,\n",
       "        0.09832143,  0.4059325 ,  0.123396  ,  0.27208809,  0.28449317,\n",
       "        0.07571892,  0.0795454 ,  0.25532823,  0.04693614,  0.0584977 ,\n",
       "        0.23351648,  0.21394202,  0.30107641,  0.30072855,  0.11486124,\n",
       "        0.20674568,  0.0687835 ,  0.28201747,  0.49344869,  0.29943211])"
      ]
     },
     "execution_count": 46,
     "metadata": {},
     "output_type": "execute_result"
    }
   ],
   "source": [
    "y_pred= lr.predict(x_test)\n",
    "y_pred"
   ]
  },
  {
   "cell_type": "markdown",
   "id": "fc9d13b5",
   "metadata": {},
   "source": [
    "# Comparing Actual vs Predicted Selling Price"
   ]
  },
  {
   "cell_type": "code",
   "execution_count": 47,
   "id": "fec244ae",
   "metadata": {},
   "outputs": [
    {
     "data": {
      "text/html": [
       "<div>\n",
       "<style scoped>\n",
       "    .dataframe tbody tr th:only-of-type {\n",
       "        vertical-align: middle;\n",
       "    }\n",
       "\n",
       "    .dataframe tbody tr th {\n",
       "        vertical-align: top;\n",
       "    }\n",
       "\n",
       "    .dataframe thead th {\n",
       "        text-align: right;\n",
       "    }\n",
       "</style>\n",
       "<table border=\"1\" class=\"dataframe\">\n",
       "  <thead>\n",
       "    <tr style=\"text-align: right;\">\n",
       "      <th></th>\n",
       "      <th>Actual_selling_price</th>\n",
       "      <th>Predicted_selling_price</th>\n",
       "    </tr>\n",
       "  </thead>\n",
       "  <tbody>\n",
       "    <tr>\n",
       "      <th>218</th>\n",
       "      <td>0.185751</td>\n",
       "      <td>0.186478</td>\n",
       "    </tr>\n",
       "    <tr>\n",
       "      <th>259</th>\n",
       "      <td>0.287532</td>\n",
       "      <td>0.230574</td>\n",
       "    </tr>\n",
       "    <tr>\n",
       "      <th>225</th>\n",
       "      <td>0.361323</td>\n",
       "      <td>0.343098</td>\n",
       "    </tr>\n",
       "    <tr>\n",
       "      <th>111</th>\n",
       "      <td>0.034606</td>\n",
       "      <td>0.115710</td>\n",
       "    </tr>\n",
       "    <tr>\n",
       "      <th>178</th>\n",
       "      <td>0.134860</td>\n",
       "      <td>0.175830</td>\n",
       "    </tr>\n",
       "    <tr>\n",
       "      <th>161</th>\n",
       "      <td>0.010178</td>\n",
       "      <td>-0.071364</td>\n",
       "    </tr>\n",
       "    <tr>\n",
       "      <th>89</th>\n",
       "      <td>0.058524</td>\n",
       "      <td>0.050847</td>\n",
       "    </tr>\n",
       "    <tr>\n",
       "      <th>220</th>\n",
       "      <td>0.198473</td>\n",
       "      <td>0.153248</td>\n",
       "    </tr>\n",
       "    <tr>\n",
       "      <th>55</th>\n",
       "      <td>0.236641</td>\n",
       "      <td>0.280906</td>\n",
       "    </tr>\n",
       "    <tr>\n",
       "      <th>198</th>\n",
       "      <td>0.132316</td>\n",
       "      <td>0.134934</td>\n",
       "    </tr>\n",
       "    <tr>\n",
       "      <th>265</th>\n",
       "      <td>0.160305</td>\n",
       "      <td>0.220690</td>\n",
       "    </tr>\n",
       "    <tr>\n",
       "      <th>267</th>\n",
       "      <td>0.430025</td>\n",
       "      <td>0.419586</td>\n",
       "    </tr>\n",
       "    <tr>\n",
       "      <th>210</th>\n",
       "      <td>0.567430</td>\n",
       "      <td>0.422499</td>\n",
       "    </tr>\n",
       "    <tr>\n",
       "      <th>126</th>\n",
       "      <td>0.025445</td>\n",
       "      <td>0.014893</td>\n",
       "    </tr>\n",
       "    <tr>\n",
       "      <th>97</th>\n",
       "      <td>0.051399</td>\n",
       "      <td>0.074519</td>\n",
       "    </tr>\n",
       "    <tr>\n",
       "      <th>15</th>\n",
       "      <td>0.389313</td>\n",
       "      <td>0.406649</td>\n",
       "    </tr>\n",
       "    <tr>\n",
       "      <th>8</th>\n",
       "      <td>0.440204</td>\n",
       "      <td>0.387759</td>\n",
       "    </tr>\n",
       "    <tr>\n",
       "      <th>152</th>\n",
       "      <td>0.015267</td>\n",
       "      <td>0.040548</td>\n",
       "    </tr>\n",
       "    <tr>\n",
       "      <th>59</th>\n",
       "      <td>0.720102</td>\n",
       "      <td>0.623818</td>\n",
       "    </tr>\n",
       "    <tr>\n",
       "      <th>238</th>\n",
       "      <td>0.180662</td>\n",
       "      <td>0.208309</td>\n",
       "    </tr>\n",
       "    <tr>\n",
       "      <th>45</th>\n",
       "      <td>0.389313</td>\n",
       "      <td>0.317651</td>\n",
       "    </tr>\n",
       "    <tr>\n",
       "      <th>116</th>\n",
       "      <td>0.027990</td>\n",
       "      <td>0.099103</td>\n",
       "    </tr>\n",
       "    <tr>\n",
       "      <th>247</th>\n",
       "      <td>0.549618</td>\n",
       "      <td>0.420523</td>\n",
       "    </tr>\n",
       "    <tr>\n",
       "      <th>160</th>\n",
       "      <td>0.012723</td>\n",
       "      <td>0.046762</td>\n",
       "    </tr>\n",
       "    <tr>\n",
       "      <th>63</th>\n",
       "      <td>0.129771</td>\n",
       "      <td>0.130361</td>\n",
       "    </tr>\n",
       "    <tr>\n",
       "      <th>7</th>\n",
       "      <td>0.325700</td>\n",
       "      <td>0.361298</td>\n",
       "    </tr>\n",
       "    <tr>\n",
       "      <th>92</th>\n",
       "      <td>0.055980</td>\n",
       "      <td>0.111459</td>\n",
       "    </tr>\n",
       "    <tr>\n",
       "      <th>235</th>\n",
       "      <td>0.330789</td>\n",
       "      <td>0.298135</td>\n",
       "    </tr>\n",
       "    <tr>\n",
       "      <th>206</th>\n",
       "      <td>0.193384</td>\n",
       "      <td>0.224391</td>\n",
       "    </tr>\n",
       "    <tr>\n",
       "      <th>255</th>\n",
       "      <td>0.452417</td>\n",
       "      <td>0.399386</td>\n",
       "    </tr>\n",
       "    <tr>\n",
       "      <th>144</th>\n",
       "      <td>0.017812</td>\n",
       "      <td>0.003619</td>\n",
       "    </tr>\n",
       "    <tr>\n",
       "      <th>118</th>\n",
       "      <td>0.027990</td>\n",
       "      <td>0.038397</td>\n",
       "    </tr>\n",
       "    <tr>\n",
       "      <th>103</th>\n",
       "      <td>0.048346</td>\n",
       "      <td>0.033448</td>\n",
       "    </tr>\n",
       "    <tr>\n",
       "      <th>191</th>\n",
       "      <td>0.323155</td>\n",
       "      <td>0.272559</td>\n",
       "    </tr>\n",
       "    <tr>\n",
       "      <th>73</th>\n",
       "      <td>0.170483</td>\n",
       "      <td>0.162335</td>\n",
       "    </tr>\n",
       "    <tr>\n",
       "      <th>137</th>\n",
       "      <td>0.019338</td>\n",
       "      <td>0.098321</td>\n",
       "    </tr>\n",
       "    <tr>\n",
       "      <th>230</th>\n",
       "      <td>0.422392</td>\n",
       "      <td>0.405933</td>\n",
       "    </tr>\n",
       "    <tr>\n",
       "      <th>83</th>\n",
       "      <td>0.083969</td>\n",
       "      <td>0.123396</td>\n",
       "    </tr>\n",
       "    <tr>\n",
       "      <th>64</th>\n",
       "      <td>0.244275</td>\n",
       "      <td>0.272088</td>\n",
       "    </tr>\n",
       "    <tr>\n",
       "      <th>258</th>\n",
       "      <td>0.282443</td>\n",
       "      <td>0.284493</td>\n",
       "    </tr>\n",
       "    <tr>\n",
       "      <th>101</th>\n",
       "      <td>0.048346</td>\n",
       "      <td>0.075719</td>\n",
       "    </tr>\n",
       "    <tr>\n",
       "      <th>200</th>\n",
       "      <td>0.124682</td>\n",
       "      <td>0.079545</td>\n",
       "    </tr>\n",
       "    <tr>\n",
       "      <th>272</th>\n",
       "      <td>0.264631</td>\n",
       "      <td>0.255328</td>\n",
       "    </tr>\n",
       "    <tr>\n",
       "      <th>106</th>\n",
       "      <td>0.043257</td>\n",
       "      <td>0.046936</td>\n",
       "    </tr>\n",
       "    <tr>\n",
       "      <th>27</th>\n",
       "      <td>0.094148</td>\n",
       "      <td>0.058498</td>\n",
       "    </tr>\n",
       "    <tr>\n",
       "      <th>224</th>\n",
       "      <td>0.269720</td>\n",
       "      <td>0.233516</td>\n",
       "    </tr>\n",
       "    <tr>\n",
       "      <th>189</th>\n",
       "      <td>0.142494</td>\n",
       "      <td>0.213942</td>\n",
       "    </tr>\n",
       "    <tr>\n",
       "      <th>182</th>\n",
       "      <td>0.241730</td>\n",
       "      <td>0.301076</td>\n",
       "    </tr>\n",
       "    <tr>\n",
       "      <th>219</th>\n",
       "      <td>0.297710</td>\n",
       "      <td>0.300729</td>\n",
       "    </tr>\n",
       "    <tr>\n",
       "      <th>37</th>\n",
       "      <td>0.124682</td>\n",
       "      <td>0.114861</td>\n",
       "    </tr>\n",
       "    <tr>\n",
       "      <th>231</th>\n",
       "      <td>0.193384</td>\n",
       "      <td>0.206746</td>\n",
       "    </tr>\n",
       "    <tr>\n",
       "      <th>136</th>\n",
       "      <td>0.020356</td>\n",
       "      <td>0.068783</td>\n",
       "    </tr>\n",
       "    <tr>\n",
       "      <th>20</th>\n",
       "      <td>0.244275</td>\n",
       "      <td>0.282017</td>\n",
       "    </tr>\n",
       "    <tr>\n",
       "      <th>76</th>\n",
       "      <td>0.567430</td>\n",
       "      <td>0.493449</td>\n",
       "    </tr>\n",
       "    <tr>\n",
       "      <th>201</th>\n",
       "      <td>0.246819</td>\n",
       "      <td>0.299432</td>\n",
       "    </tr>\n",
       "  </tbody>\n",
       "</table>\n",
       "</div>"
      ],
      "text/plain": [
       "     Actual_selling_price  Predicted_selling_price\n",
       "218              0.185751                 0.186478\n",
       "259              0.287532                 0.230574\n",
       "225              0.361323                 0.343098\n",
       "111              0.034606                 0.115710\n",
       "178              0.134860                 0.175830\n",
       "161              0.010178                -0.071364\n",
       "89               0.058524                 0.050847\n",
       "220              0.198473                 0.153248\n",
       "55               0.236641                 0.280906\n",
       "198              0.132316                 0.134934\n",
       "265              0.160305                 0.220690\n",
       "267              0.430025                 0.419586\n",
       "210              0.567430                 0.422499\n",
       "126              0.025445                 0.014893\n",
       "97               0.051399                 0.074519\n",
       "15               0.389313                 0.406649\n",
       "8                0.440204                 0.387759\n",
       "152              0.015267                 0.040548\n",
       "59               0.720102                 0.623818\n",
       "238              0.180662                 0.208309\n",
       "45               0.389313                 0.317651\n",
       "116              0.027990                 0.099103\n",
       "247              0.549618                 0.420523\n",
       "160              0.012723                 0.046762\n",
       "63               0.129771                 0.130361\n",
       "7                0.325700                 0.361298\n",
       "92               0.055980                 0.111459\n",
       "235              0.330789                 0.298135\n",
       "206              0.193384                 0.224391\n",
       "255              0.452417                 0.399386\n",
       "144              0.017812                 0.003619\n",
       "118              0.027990                 0.038397\n",
       "103              0.048346                 0.033448\n",
       "191              0.323155                 0.272559\n",
       "73               0.170483                 0.162335\n",
       "137              0.019338                 0.098321\n",
       "230              0.422392                 0.405933\n",
       "83               0.083969                 0.123396\n",
       "64               0.244275                 0.272088\n",
       "258              0.282443                 0.284493\n",
       "101              0.048346                 0.075719\n",
       "200              0.124682                 0.079545\n",
       "272              0.264631                 0.255328\n",
       "106              0.043257                 0.046936\n",
       "27               0.094148                 0.058498\n",
       "224              0.269720                 0.233516\n",
       "189              0.142494                 0.213942\n",
       "182              0.241730                 0.301076\n",
       "219              0.297710                 0.300729\n",
       "37               0.124682                 0.114861\n",
       "231              0.193384                 0.206746\n",
       "136              0.020356                 0.068783\n",
       "20               0.244275                 0.282017\n",
       "76               0.567430                 0.493449\n",
       "201              0.246819                 0.299432"
      ]
     },
     "execution_count": 47,
     "metadata": {},
     "output_type": "execute_result"
    }
   ],
   "source": [
    "compare= pd.DataFrame({\"Actual_selling_price\": y_test, \"Predicted_selling_price\": y_pred})\n",
    "compare"
   ]
  },
  {
   "cell_type": "code",
   "execution_count": 90,
   "id": "dfa4baf7",
   "metadata": {},
   "outputs": [],
   "source": [
    "# PLOTTING ACTUAL AND PREDICTED SELLING PRICE"
   ]
  },
  {
   "cell_type": "code",
   "execution_count": 89,
   "id": "b1dcee6d",
   "metadata": {},
   "outputs": [
    {
     "data": {
      "text/plain": [
       "Text(0.5, 1.0, 'True value Vs Predicted values of Selling Price')"
      ]
     },
     "execution_count": 89,
     "metadata": {},
     "output_type": "execute_result"
    },
    {
     "data": {
      "image/png": "[encoded data removed]",
      "text/plain": [
       "<Figure size 504x360 with 1 Axes>"
      ]
     },
     "metadata": {
      "needs_background": "light"
     },
     "output_type": "display_data"
    }
   ],
   "source": [
    "plt.figure(figsize=(7,5))\n",
    "plt.scatter(x= y_test, y= y_pred)\n",
    "plt.xlabel('Y Test (True values)')\n",
    "plt.ylabel('Predicted Values')\n",
    "plt.title('True value Vs Predicted values of Selling Price', fontsize=14)"
   ]
  },
  {
   "cell_type": "markdown",
   "id": "407f4861",
   "metadata": {},
   "source": [
    "# MODEL EVALUATION"
   ]
  },
  {
   "cell_type": "code",
   "execution_count": 49,
   "id": "89ca8af3",
   "metadata": {},
   "outputs": [],
   "source": [
    "# R-Square score"
   ]
  },
  {
   "cell_type": "code",
   "execution_count": 50,
   "id": "c0c071ad",
   "metadata": {},
   "outputs": [
    {
     "data": {
      "text/plain": [
       "0.9129372869152672"
      ]
     },
     "execution_count": 50,
     "metadata": {},
     "output_type": "execute_result"
    }
   ],
   "source": [
    "from sklearn.metrics import r2_score\n",
    "A=r2_score(y_test,y_pred)\n",
    "A"
   ]
  },
  {
   "cell_type": "markdown",
   "id": "134e4b8f",
   "metadata": {},
   "source": [
    "# RANDOM FOREST REGRESSOR"
   ]
  },
  {
   "cell_type": "code",
   "execution_count": 51,
   "id": "ef633198",
   "metadata": {},
   "outputs": [],
   "source": [
    "# Random forest is a type of supervised learning algorithm that uses ensemble methods (bagging) to solve both regression and classification problems.\n",
    "# It can provide more accurate results compared to single decision tree and helps reduce overfitting."
   ]
  },
  {
   "cell_type": "markdown",
   "id": "613e031a",
   "metadata": {},
   "source": [
    "# MODEL BUILDING"
   ]
  },
  {
   "cell_type": "code",
   "execution_count": 52,
   "id": "f2ada3aa",
   "metadata": {},
   "outputs": [],
   "source": [
    "from sklearn.ensemble import RandomForestRegressor\n",
    "forest= RandomForestRegressor()"
   ]
  },
  {
   "cell_type": "markdown",
   "id": "2af37f44",
   "metadata": {},
   "source": [
    "# MODEL TRAINING"
   ]
  },
  {
   "cell_type": "code",
   "execution_count": 53,
   "id": "4e935c9a",
   "metadata": {},
   "outputs": [
    {
     "data": {
      "text/plain": [
       "RandomForestRegressor()"
      ]
     },
     "execution_count": 53,
     "metadata": {},
     "output_type": "execute_result"
    }
   ],
   "source": [
    "forest.fit(x_train,y_train)"
   ]
  },
  {
   "cell_type": "markdown",
   "id": "827b310c",
   "metadata": {},
   "source": [
    "# PREDICTIONS"
   ]
  },
  {
   "cell_type": "code",
   "execution_count": 54,
   "id": "d09bcd9d",
   "metadata": {},
   "outputs": [
    {
     "data": {
      "text/plain": [
       "array([0.15547074, 0.22104326, 0.29699746, 0.03430534, 0.14900763,\n",
       "       0.00794911, 0.05157761, 0.14880407, 0.2246056 , 0.13681934,\n",
       "       0.19340967, 0.46395929, 0.5537659 , 0.02005089, 0.05307888,\n",
       "       0.39239186, 0.37129771, 0.02385242, 0.75659542, 0.20796438,\n",
       "       0.39384733, 0.03104326, 0.47444275, 0.01284987, 0.14938931,\n",
       "       0.37232061, 0.05590331, 0.28900763, 0.19483461, 0.48104835,\n",
       "       0.02180153, 0.03349618, 0.05170483, 0.30964377, 0.1937659 ,\n",
       "       0.01716539, 0.45132316, 0.07277354, 0.29310433, 0.28122137,\n",
       "       0.05620865, 0.12564885, 0.27010178, 0.05221374, 0.11694656,\n",
       "       0.25048346, 0.15590331, 0.25600509, 0.39769975, 0.13356234,\n",
       "       0.20577608, 0.02732824, 0.27486005, 0.46564377, 0.25735369])"
      ]
     },
     "execution_count": 54,
     "metadata": {},
     "output_type": "execute_result"
    }
   ],
   "source": [
    "y_pred1= forest.predict(x_test)\n",
    "y_pred1"
   ]
  },
  {
   "cell_type": "markdown",
   "id": "3f7564d5",
   "metadata": {},
   "source": [
    "# COMPARING ACTUAL VS PREDICTED SELLING PRICE"
   ]
  },
  {
   "cell_type": "code",
   "execution_count": 55,
   "id": "7dd87ee4",
   "metadata": {},
   "outputs": [
    {
     "data": {
      "text/html": [
       "<div>\n",
       "<style scoped>\n",
       "    .dataframe tbody tr th:only-of-type {\n",
       "        vertical-align: middle;\n",
       "    }\n",
       "\n",
       "    .dataframe tbody tr th {\n",
       "        vertical-align: top;\n",
       "    }\n",
       "\n",
       "    .dataframe thead th {\n",
       "        text-align: right;\n",
       "    }\n",
       "</style>\n",
       "<table border=\"1\" class=\"dataframe\">\n",
       "  <thead>\n",
       "    <tr style=\"text-align: right;\">\n",
       "      <th></th>\n",
       "      <th>Actual_selling_price</th>\n",
       "      <th>Predicted_selling_price</th>\n",
       "    </tr>\n",
       "  </thead>\n",
       "  <tbody>\n",
       "    <tr>\n",
       "      <th>218</th>\n",
       "      <td>0.185751</td>\n",
       "      <td>0.155471</td>\n",
       "    </tr>\n",
       "    <tr>\n",
       "      <th>259</th>\n",
       "      <td>0.287532</td>\n",
       "      <td>0.221043</td>\n",
       "    </tr>\n",
       "    <tr>\n",
       "      <th>225</th>\n",
       "      <td>0.361323</td>\n",
       "      <td>0.296997</td>\n",
       "    </tr>\n",
       "    <tr>\n",
       "      <th>111</th>\n",
       "      <td>0.034606</td>\n",
       "      <td>0.034305</td>\n",
       "    </tr>\n",
       "    <tr>\n",
       "      <th>178</th>\n",
       "      <td>0.134860</td>\n",
       "      <td>0.149008</td>\n",
       "    </tr>\n",
       "    <tr>\n",
       "      <th>161</th>\n",
       "      <td>0.010178</td>\n",
       "      <td>0.007949</td>\n",
       "    </tr>\n",
       "    <tr>\n",
       "      <th>89</th>\n",
       "      <td>0.058524</td>\n",
       "      <td>0.051578</td>\n",
       "    </tr>\n",
       "    <tr>\n",
       "      <th>220</th>\n",
       "      <td>0.198473</td>\n",
       "      <td>0.148804</td>\n",
       "    </tr>\n",
       "    <tr>\n",
       "      <th>55</th>\n",
       "      <td>0.236641</td>\n",
       "      <td>0.224606</td>\n",
       "    </tr>\n",
       "    <tr>\n",
       "      <th>198</th>\n",
       "      <td>0.132316</td>\n",
       "      <td>0.136819</td>\n",
       "    </tr>\n",
       "    <tr>\n",
       "      <th>265</th>\n",
       "      <td>0.160305</td>\n",
       "      <td>0.193410</td>\n",
       "    </tr>\n",
       "    <tr>\n",
       "      <th>267</th>\n",
       "      <td>0.430025</td>\n",
       "      <td>0.463959</td>\n",
       "    </tr>\n",
       "    <tr>\n",
       "      <th>210</th>\n",
       "      <td>0.567430</td>\n",
       "      <td>0.553766</td>\n",
       "    </tr>\n",
       "    <tr>\n",
       "      <th>126</th>\n",
       "      <td>0.025445</td>\n",
       "      <td>0.020051</td>\n",
       "    </tr>\n",
       "    <tr>\n",
       "      <th>97</th>\n",
       "      <td>0.051399</td>\n",
       "      <td>0.053079</td>\n",
       "    </tr>\n",
       "    <tr>\n",
       "      <th>15</th>\n",
       "      <td>0.389313</td>\n",
       "      <td>0.392392</td>\n",
       "    </tr>\n",
       "    <tr>\n",
       "      <th>8</th>\n",
       "      <td>0.440204</td>\n",
       "      <td>0.371298</td>\n",
       "    </tr>\n",
       "    <tr>\n",
       "      <th>152</th>\n",
       "      <td>0.015267</td>\n",
       "      <td>0.023852</td>\n",
       "    </tr>\n",
       "    <tr>\n",
       "      <th>59</th>\n",
       "      <td>0.720102</td>\n",
       "      <td>0.756595</td>\n",
       "    </tr>\n",
       "    <tr>\n",
       "      <th>238</th>\n",
       "      <td>0.180662</td>\n",
       "      <td>0.207964</td>\n",
       "    </tr>\n",
       "    <tr>\n",
       "      <th>45</th>\n",
       "      <td>0.389313</td>\n",
       "      <td>0.393847</td>\n",
       "    </tr>\n",
       "    <tr>\n",
       "      <th>116</th>\n",
       "      <td>0.027990</td>\n",
       "      <td>0.031043</td>\n",
       "    </tr>\n",
       "    <tr>\n",
       "      <th>247</th>\n",
       "      <td>0.549618</td>\n",
       "      <td>0.474443</td>\n",
       "    </tr>\n",
       "    <tr>\n",
       "      <th>160</th>\n",
       "      <td>0.012723</td>\n",
       "      <td>0.012850</td>\n",
       "    </tr>\n",
       "    <tr>\n",
       "      <th>63</th>\n",
       "      <td>0.129771</td>\n",
       "      <td>0.149389</td>\n",
       "    </tr>\n",
       "    <tr>\n",
       "      <th>7</th>\n",
       "      <td>0.325700</td>\n",
       "      <td>0.372321</td>\n",
       "    </tr>\n",
       "    <tr>\n",
       "      <th>92</th>\n",
       "      <td>0.055980</td>\n",
       "      <td>0.055903</td>\n",
       "    </tr>\n",
       "    <tr>\n",
       "      <th>235</th>\n",
       "      <td>0.330789</td>\n",
       "      <td>0.289008</td>\n",
       "    </tr>\n",
       "    <tr>\n",
       "      <th>206</th>\n",
       "      <td>0.193384</td>\n",
       "      <td>0.194835</td>\n",
       "    </tr>\n",
       "    <tr>\n",
       "      <th>255</th>\n",
       "      <td>0.452417</td>\n",
       "      <td>0.481048</td>\n",
       "    </tr>\n",
       "    <tr>\n",
       "      <th>144</th>\n",
       "      <td>0.017812</td>\n",
       "      <td>0.021802</td>\n",
       "    </tr>\n",
       "    <tr>\n",
       "      <th>118</th>\n",
       "      <td>0.027990</td>\n",
       "      <td>0.033496</td>\n",
       "    </tr>\n",
       "    <tr>\n",
       "      <th>103</th>\n",
       "      <td>0.048346</td>\n",
       "      <td>0.051705</td>\n",
       "    </tr>\n",
       "    <tr>\n",
       "      <th>191</th>\n",
       "      <td>0.323155</td>\n",
       "      <td>0.309644</td>\n",
       "    </tr>\n",
       "    <tr>\n",
       "      <th>73</th>\n",
       "      <td>0.170483</td>\n",
       "      <td>0.193766</td>\n",
       "    </tr>\n",
       "    <tr>\n",
       "      <th>137</th>\n",
       "      <td>0.019338</td>\n",
       "      <td>0.017165</td>\n",
       "    </tr>\n",
       "    <tr>\n",
       "      <th>230</th>\n",
       "      <td>0.422392</td>\n",
       "      <td>0.451323</td>\n",
       "    </tr>\n",
       "    <tr>\n",
       "      <th>83</th>\n",
       "      <td>0.083969</td>\n",
       "      <td>0.072774</td>\n",
       "    </tr>\n",
       "    <tr>\n",
       "      <th>64</th>\n",
       "      <td>0.244275</td>\n",
       "      <td>0.293104</td>\n",
       "    </tr>\n",
       "    <tr>\n",
       "      <th>258</th>\n",
       "      <td>0.282443</td>\n",
       "      <td>0.281221</td>\n",
       "    </tr>\n",
       "    <tr>\n",
       "      <th>101</th>\n",
       "      <td>0.048346</td>\n",
       "      <td>0.056209</td>\n",
       "    </tr>\n",
       "    <tr>\n",
       "      <th>200</th>\n",
       "      <td>0.124682</td>\n",
       "      <td>0.125649</td>\n",
       "    </tr>\n",
       "    <tr>\n",
       "      <th>272</th>\n",
       "      <td>0.264631</td>\n",
       "      <td>0.270102</td>\n",
       "    </tr>\n",
       "    <tr>\n",
       "      <th>106</th>\n",
       "      <td>0.043257</td>\n",
       "      <td>0.052214</td>\n",
       "    </tr>\n",
       "    <tr>\n",
       "      <th>27</th>\n",
       "      <td>0.094148</td>\n",
       "      <td>0.116947</td>\n",
       "    </tr>\n",
       "    <tr>\n",
       "      <th>224</th>\n",
       "      <td>0.269720</td>\n",
       "      <td>0.250483</td>\n",
       "    </tr>\n",
       "    <tr>\n",
       "      <th>189</th>\n",
       "      <td>0.142494</td>\n",
       "      <td>0.155903</td>\n",
       "    </tr>\n",
       "    <tr>\n",
       "      <th>182</th>\n",
       "      <td>0.241730</td>\n",
       "      <td>0.256005</td>\n",
       "    </tr>\n",
       "    <tr>\n",
       "      <th>219</th>\n",
       "      <td>0.297710</td>\n",
       "      <td>0.397700</td>\n",
       "    </tr>\n",
       "    <tr>\n",
       "      <th>37</th>\n",
       "      <td>0.124682</td>\n",
       "      <td>0.133562</td>\n",
       "    </tr>\n",
       "    <tr>\n",
       "      <th>231</th>\n",
       "      <td>0.193384</td>\n",
       "      <td>0.205776</td>\n",
       "    </tr>\n",
       "    <tr>\n",
       "      <th>136</th>\n",
       "      <td>0.020356</td>\n",
       "      <td>0.027328</td>\n",
       "    </tr>\n",
       "    <tr>\n",
       "      <th>20</th>\n",
       "      <td>0.244275</td>\n",
       "      <td>0.274860</td>\n",
       "    </tr>\n",
       "    <tr>\n",
       "      <th>76</th>\n",
       "      <td>0.567430</td>\n",
       "      <td>0.465644</td>\n",
       "    </tr>\n",
       "    <tr>\n",
       "      <th>201</th>\n",
       "      <td>0.246819</td>\n",
       "      <td>0.257354</td>\n",
       "    </tr>\n",
       "  </tbody>\n",
       "</table>\n",
       "</div>"
      ],
      "text/plain": [
       "     Actual_selling_price  Predicted_selling_price\n",
       "218              0.185751                 0.155471\n",
       "259              0.287532                 0.221043\n",
       "225              0.361323                 0.296997\n",
       "111              0.034606                 0.034305\n",
       "178              0.134860                 0.149008\n",
       "161              0.010178                 0.007949\n",
       "89               0.058524                 0.051578\n",
       "220              0.198473                 0.148804\n",
       "55               0.236641                 0.224606\n",
       "198              0.132316                 0.136819\n",
       "265              0.160305                 0.193410\n",
       "267              0.430025                 0.463959\n",
       "210              0.567430                 0.553766\n",
       "126              0.025445                 0.020051\n",
       "97               0.051399                 0.053079\n",
       "15               0.389313                 0.392392\n",
       "8                0.440204                 0.371298\n",
       "152              0.015267                 0.023852\n",
       "59               0.720102                 0.756595\n",
       "238              0.180662                 0.207964\n",
       "45               0.389313                 0.393847\n",
       "116              0.027990                 0.031043\n",
       "247              0.549618                 0.474443\n",
       "160              0.012723                 0.012850\n",
       "63               0.129771                 0.149389\n",
       "7                0.325700                 0.372321\n",
       "92               0.055980                 0.055903\n",
       "235              0.330789                 0.289008\n",
       "206              0.193384                 0.194835\n",
       "255              0.452417                 0.481048\n",
       "144              0.017812                 0.021802\n",
       "118              0.027990                 0.033496\n",
       "103              0.048346                 0.051705\n",
       "191              0.323155                 0.309644\n",
       "73               0.170483                 0.193766\n",
       "137              0.019338                 0.017165\n",
       "230              0.422392                 0.451323\n",
       "83               0.083969                 0.072774\n",
       "64               0.244275                 0.293104\n",
       "258              0.282443                 0.281221\n",
       "101              0.048346                 0.056209\n",
       "200              0.124682                 0.125649\n",
       "272              0.264631                 0.270102\n",
       "106              0.043257                 0.052214\n",
       "27               0.094148                 0.116947\n",
       "224              0.269720                 0.250483\n",
       "189              0.142494                 0.155903\n",
       "182              0.241730                 0.256005\n",
       "219              0.297710                 0.397700\n",
       "37               0.124682                 0.133562\n",
       "231              0.193384                 0.205776\n",
       "136              0.020356                 0.027328\n",
       "20               0.244275                 0.274860\n",
       "76               0.567430                 0.465644\n",
       "201              0.246819                 0.257354"
      ]
     },
     "execution_count": 55,
     "metadata": {},
     "output_type": "execute_result"
    }
   ],
   "source": [
    "compare1= pd.DataFrame({\"Actual_selling_price\": y_test, \"Predicted_selling_price\": y_pred1})\n",
    "compare1"
   ]
  },
  {
   "cell_type": "markdown",
   "id": "ce28f71a",
   "metadata": {},
   "source": [
    "# MODEL EVALUATION"
   ]
  },
  {
   "cell_type": "code",
   "execution_count": 57,
   "id": "92281fa1",
   "metadata": {},
   "outputs": [],
   "source": [
    "# R-Square score"
   ]
  },
  {
   "cell_type": "code",
   "execution_count": 58,
   "id": "f71dfbf3",
   "metadata": {},
   "outputs": [
    {
     "data": {
      "text/plain": [
       "0.9620676388879108"
      ]
     },
     "execution_count": 58,
     "metadata": {},
     "output_type": "execute_result"
    }
   ],
   "source": [
    "B=r2_score(y_test,y_pred1)\n",
    "B"
   ]
  },
  {
   "cell_type": "markdown",
   "id": "5f7844ec",
   "metadata": {},
   "source": [
    "# DECISION TREE REGRESSOR"
   ]
  },
  {
   "cell_type": "code",
   "execution_count": 59,
   "id": "94601e89",
   "metadata": {},
   "outputs": [],
   "source": [
    "# A decision tree is a non-parametric supervised learning algorithm, which is utilized for both classification and regression tasks.\n",
    "# They recursively split the data based on the features to create a tree like model.\n",
    "# Decision trees can capture complex relationships and are easy to understand."
   ]
  },
  {
   "cell_type": "markdown",
   "id": "f92e12ba",
   "metadata": {},
   "source": [
    "# MODEL BUILDING"
   ]
  },
  {
   "cell_type": "code",
   "execution_count": 60,
   "id": "0b39ec1c",
   "metadata": {},
   "outputs": [],
   "source": [
    "from sklearn.tree import DecisionTreeRegressor\n",
    "tree= DecisionTreeRegressor()"
   ]
  },
  {
   "cell_type": "markdown",
   "id": "204fc89b",
   "metadata": {},
   "source": [
    "# MODEL TRAINING"
   ]
  },
  {
   "cell_type": "code",
   "execution_count": 61,
   "id": "f4923ac0",
   "metadata": {},
   "outputs": [
    {
     "data": {
      "text/plain": [
       "DecisionTreeRegressor()"
      ]
     },
     "execution_count": 61,
     "metadata": {},
     "output_type": "execute_result"
    }
   ],
   "source": [
    "tree.fit(x_train,y_train)"
   ]
  },
  {
   "cell_type": "markdown",
   "id": "70e63fa2",
   "metadata": {},
   "source": [
    "# PREDICTIONS"
   ]
  },
  {
   "cell_type": "code",
   "execution_count": 62,
   "id": "f36165d2",
   "metadata": {},
   "outputs": [
    {
     "data": {
      "text/plain": [
       "array([0.14249364, 0.27480916, 0.30025445, 0.03307888, 0.17302799,\n",
       "       0.01424936, 0.05343511, 0.15267176, 0.22900763, 0.1475827 ,\n",
       "       0.1475827 , 0.59287532, 0.59287532, 0.0178117 , 0.05343511,\n",
       "       0.38931298, 0.36386768, 0.02035623, 0.57760814, 0.18575064,\n",
       "       0.36386768, 0.03307888, 0.4605598 , 0.00763359, 0.14249364,\n",
       "       0.45801527, 0.05343511, 0.26208651, 0.20610687, 0.4783715 ,\n",
       "       0.02035623, 0.02544529, 0.05343511, 0.41475827, 0.23664122,\n",
       "       0.0178117 , 0.4351145 , 0.07888041, 0.30025445, 0.24681934,\n",
       "       0.05089059, 0.11450382, 0.27480916, 0.05089059, 0.1475827 ,\n",
       "       0.2697201 , 0.15267176, 0.26208651, 0.45801527, 0.1221374 ,\n",
       "       0.18575064, 0.03155216, 0.27480916, 0.46564885, 0.25954198])"
      ]
     },
     "execution_count": 62,
     "metadata": {},
     "output_type": "execute_result"
    }
   ],
   "source": [
    "y_pred2= tree.predict(x_test)\n",
    "y_pred2"
   ]
  },
  {
   "cell_type": "markdown",
   "id": "6e00c529",
   "metadata": {},
   "source": [
    "# COMPARING ACTUAL VS PREDICTED SELLING PRICE"
   ]
  },
  {
   "cell_type": "code",
   "execution_count": 63,
   "id": "cb1d8890",
   "metadata": {},
   "outputs": [
    {
     "data": {
      "text/html": [
       "<div>\n",
       "<style scoped>\n",
       "    .dataframe tbody tr th:only-of-type {\n",
       "        vertical-align: middle;\n",
       "    }\n",
       "\n",
       "    .dataframe tbody tr th {\n",
       "        vertical-align: top;\n",
       "    }\n",
       "\n",
       "    .dataframe thead th {\n",
       "        text-align: right;\n",
       "    }\n",
       "</style>\n",
       "<table border=\"1\" class=\"dataframe\">\n",
       "  <thead>\n",
       "    <tr style=\"text-align: right;\">\n",
       "      <th></th>\n",
       "      <th>Actual_selling_price</th>\n",
       "      <th>Predicted_selling_price</th>\n",
       "    </tr>\n",
       "  </thead>\n",
       "  <tbody>\n",
       "    <tr>\n",
       "      <th>218</th>\n",
       "      <td>0.185751</td>\n",
       "      <td>0.142494</td>\n",
       "    </tr>\n",
       "    <tr>\n",
       "      <th>259</th>\n",
       "      <td>0.287532</td>\n",
       "      <td>0.274809</td>\n",
       "    </tr>\n",
       "    <tr>\n",
       "      <th>225</th>\n",
       "      <td>0.361323</td>\n",
       "      <td>0.300254</td>\n",
       "    </tr>\n",
       "    <tr>\n",
       "      <th>111</th>\n",
       "      <td>0.034606</td>\n",
       "      <td>0.033079</td>\n",
       "    </tr>\n",
       "    <tr>\n",
       "      <th>178</th>\n",
       "      <td>0.134860</td>\n",
       "      <td>0.173028</td>\n",
       "    </tr>\n",
       "    <tr>\n",
       "      <th>161</th>\n",
       "      <td>0.010178</td>\n",
       "      <td>0.014249</td>\n",
       "    </tr>\n",
       "    <tr>\n",
       "      <th>89</th>\n",
       "      <td>0.058524</td>\n",
       "      <td>0.053435</td>\n",
       "    </tr>\n",
       "    <tr>\n",
       "      <th>220</th>\n",
       "      <td>0.198473</td>\n",
       "      <td>0.152672</td>\n",
       "    </tr>\n",
       "    <tr>\n",
       "      <th>55</th>\n",
       "      <td>0.236641</td>\n",
       "      <td>0.229008</td>\n",
       "    </tr>\n",
       "    <tr>\n",
       "      <th>198</th>\n",
       "      <td>0.132316</td>\n",
       "      <td>0.147583</td>\n",
       "    </tr>\n",
       "    <tr>\n",
       "      <th>265</th>\n",
       "      <td>0.160305</td>\n",
       "      <td>0.147583</td>\n",
       "    </tr>\n",
       "    <tr>\n",
       "      <th>267</th>\n",
       "      <td>0.430025</td>\n",
       "      <td>0.592875</td>\n",
       "    </tr>\n",
       "    <tr>\n",
       "      <th>210</th>\n",
       "      <td>0.567430</td>\n",
       "      <td>0.592875</td>\n",
       "    </tr>\n",
       "    <tr>\n",
       "      <th>126</th>\n",
       "      <td>0.025445</td>\n",
       "      <td>0.017812</td>\n",
       "    </tr>\n",
       "    <tr>\n",
       "      <th>97</th>\n",
       "      <td>0.051399</td>\n",
       "      <td>0.053435</td>\n",
       "    </tr>\n",
       "    <tr>\n",
       "      <th>15</th>\n",
       "      <td>0.389313</td>\n",
       "      <td>0.389313</td>\n",
       "    </tr>\n",
       "    <tr>\n",
       "      <th>8</th>\n",
       "      <td>0.440204</td>\n",
       "      <td>0.363868</td>\n",
       "    </tr>\n",
       "    <tr>\n",
       "      <th>152</th>\n",
       "      <td>0.015267</td>\n",
       "      <td>0.020356</td>\n",
       "    </tr>\n",
       "    <tr>\n",
       "      <th>59</th>\n",
       "      <td>0.720102</td>\n",
       "      <td>0.577608</td>\n",
       "    </tr>\n",
       "    <tr>\n",
       "      <th>238</th>\n",
       "      <td>0.180662</td>\n",
       "      <td>0.185751</td>\n",
       "    </tr>\n",
       "    <tr>\n",
       "      <th>45</th>\n",
       "      <td>0.389313</td>\n",
       "      <td>0.363868</td>\n",
       "    </tr>\n",
       "    <tr>\n",
       "      <th>116</th>\n",
       "      <td>0.027990</td>\n",
       "      <td>0.033079</td>\n",
       "    </tr>\n",
       "    <tr>\n",
       "      <th>247</th>\n",
       "      <td>0.549618</td>\n",
       "      <td>0.460560</td>\n",
       "    </tr>\n",
       "    <tr>\n",
       "      <th>160</th>\n",
       "      <td>0.012723</td>\n",
       "      <td>0.007634</td>\n",
       "    </tr>\n",
       "    <tr>\n",
       "      <th>63</th>\n",
       "      <td>0.129771</td>\n",
       "      <td>0.142494</td>\n",
       "    </tr>\n",
       "    <tr>\n",
       "      <th>7</th>\n",
       "      <td>0.325700</td>\n",
       "      <td>0.458015</td>\n",
       "    </tr>\n",
       "    <tr>\n",
       "      <th>92</th>\n",
       "      <td>0.055980</td>\n",
       "      <td>0.053435</td>\n",
       "    </tr>\n",
       "    <tr>\n",
       "      <th>235</th>\n",
       "      <td>0.330789</td>\n",
       "      <td>0.262087</td>\n",
       "    </tr>\n",
       "    <tr>\n",
       "      <th>206</th>\n",
       "      <td>0.193384</td>\n",
       "      <td>0.206107</td>\n",
       "    </tr>\n",
       "    <tr>\n",
       "      <th>255</th>\n",
       "      <td>0.452417</td>\n",
       "      <td>0.478372</td>\n",
       "    </tr>\n",
       "    <tr>\n",
       "      <th>144</th>\n",
       "      <td>0.017812</td>\n",
       "      <td>0.020356</td>\n",
       "    </tr>\n",
       "    <tr>\n",
       "      <th>118</th>\n",
       "      <td>0.027990</td>\n",
       "      <td>0.025445</td>\n",
       "    </tr>\n",
       "    <tr>\n",
       "      <th>103</th>\n",
       "      <td>0.048346</td>\n",
       "      <td>0.053435</td>\n",
       "    </tr>\n",
       "    <tr>\n",
       "      <th>191</th>\n",
       "      <td>0.323155</td>\n",
       "      <td>0.414758</td>\n",
       "    </tr>\n",
       "    <tr>\n",
       "      <th>73</th>\n",
       "      <td>0.170483</td>\n",
       "      <td>0.236641</td>\n",
       "    </tr>\n",
       "    <tr>\n",
       "      <th>137</th>\n",
       "      <td>0.019338</td>\n",
       "      <td>0.017812</td>\n",
       "    </tr>\n",
       "    <tr>\n",
       "      <th>230</th>\n",
       "      <td>0.422392</td>\n",
       "      <td>0.435115</td>\n",
       "    </tr>\n",
       "    <tr>\n",
       "      <th>83</th>\n",
       "      <td>0.083969</td>\n",
       "      <td>0.078880</td>\n",
       "    </tr>\n",
       "    <tr>\n",
       "      <th>64</th>\n",
       "      <td>0.244275</td>\n",
       "      <td>0.300254</td>\n",
       "    </tr>\n",
       "    <tr>\n",
       "      <th>258</th>\n",
       "      <td>0.282443</td>\n",
       "      <td>0.246819</td>\n",
       "    </tr>\n",
       "    <tr>\n",
       "      <th>101</th>\n",
       "      <td>0.048346</td>\n",
       "      <td>0.050891</td>\n",
       "    </tr>\n",
       "    <tr>\n",
       "      <th>200</th>\n",
       "      <td>0.124682</td>\n",
       "      <td>0.114504</td>\n",
       "    </tr>\n",
       "    <tr>\n",
       "      <th>272</th>\n",
       "      <td>0.264631</td>\n",
       "      <td>0.274809</td>\n",
       "    </tr>\n",
       "    <tr>\n",
       "      <th>106</th>\n",
       "      <td>0.043257</td>\n",
       "      <td>0.050891</td>\n",
       "    </tr>\n",
       "    <tr>\n",
       "      <th>27</th>\n",
       "      <td>0.094148</td>\n",
       "      <td>0.147583</td>\n",
       "    </tr>\n",
       "    <tr>\n",
       "      <th>224</th>\n",
       "      <td>0.269720</td>\n",
       "      <td>0.269720</td>\n",
       "    </tr>\n",
       "    <tr>\n",
       "      <th>189</th>\n",
       "      <td>0.142494</td>\n",
       "      <td>0.152672</td>\n",
       "    </tr>\n",
       "    <tr>\n",
       "      <th>182</th>\n",
       "      <td>0.241730</td>\n",
       "      <td>0.262087</td>\n",
       "    </tr>\n",
       "    <tr>\n",
       "      <th>219</th>\n",
       "      <td>0.297710</td>\n",
       "      <td>0.458015</td>\n",
       "    </tr>\n",
       "    <tr>\n",
       "      <th>37</th>\n",
       "      <td>0.124682</td>\n",
       "      <td>0.122137</td>\n",
       "    </tr>\n",
       "    <tr>\n",
       "      <th>231</th>\n",
       "      <td>0.193384</td>\n",
       "      <td>0.185751</td>\n",
       "    </tr>\n",
       "    <tr>\n",
       "      <th>136</th>\n",
       "      <td>0.020356</td>\n",
       "      <td>0.031552</td>\n",
       "    </tr>\n",
       "    <tr>\n",
       "      <th>20</th>\n",
       "      <td>0.244275</td>\n",
       "      <td>0.274809</td>\n",
       "    </tr>\n",
       "    <tr>\n",
       "      <th>76</th>\n",
       "      <td>0.567430</td>\n",
       "      <td>0.465649</td>\n",
       "    </tr>\n",
       "    <tr>\n",
       "      <th>201</th>\n",
       "      <td>0.246819</td>\n",
       "      <td>0.259542</td>\n",
       "    </tr>\n",
       "  </tbody>\n",
       "</table>\n",
       "</div>"
      ],
      "text/plain": [
       "     Actual_selling_price  Predicted_selling_price\n",
       "218              0.185751                 0.142494\n",
       "259              0.287532                 0.274809\n",
       "225              0.361323                 0.300254\n",
       "111              0.034606                 0.033079\n",
       "178              0.134860                 0.173028\n",
       "161              0.010178                 0.014249\n",
       "89               0.058524                 0.053435\n",
       "220              0.198473                 0.152672\n",
       "55               0.236641                 0.229008\n",
       "198              0.132316                 0.147583\n",
       "265              0.160305                 0.147583\n",
       "267              0.430025                 0.592875\n",
       "210              0.567430                 0.592875\n",
       "126              0.025445                 0.017812\n",
       "97               0.051399                 0.053435\n",
       "15               0.389313                 0.389313\n",
       "8                0.440204                 0.363868\n",
       "152              0.015267                 0.020356\n",
       "59               0.720102                 0.577608\n",
       "238              0.180662                 0.185751\n",
       "45               0.389313                 0.363868\n",
       "116              0.027990                 0.033079\n",
       "247              0.549618                 0.460560\n",
       "160              0.012723                 0.007634\n",
       "63               0.129771                 0.142494\n",
       "7                0.325700                 0.458015\n",
       "92               0.055980                 0.053435\n",
       "235              0.330789                 0.262087\n",
       "206              0.193384                 0.206107\n",
       "255              0.452417                 0.478372\n",
       "144              0.017812                 0.020356\n",
       "118              0.027990                 0.025445\n",
       "103              0.048346                 0.053435\n",
       "191              0.323155                 0.414758\n",
       "73               0.170483                 0.236641\n",
       "137              0.019338                 0.017812\n",
       "230              0.422392                 0.435115\n",
       "83               0.083969                 0.078880\n",
       "64               0.244275                 0.300254\n",
       "258              0.282443                 0.246819\n",
       "101              0.048346                 0.050891\n",
       "200              0.124682                 0.114504\n",
       "272              0.264631                 0.274809\n",
       "106              0.043257                 0.050891\n",
       "27               0.094148                 0.147583\n",
       "224              0.269720                 0.269720\n",
       "189              0.142494                 0.152672\n",
       "182              0.241730                 0.262087\n",
       "219              0.297710                 0.458015\n",
       "37               0.124682                 0.122137\n",
       "231              0.193384                 0.185751\n",
       "136              0.020356                 0.031552\n",
       "20               0.244275                 0.274809\n",
       "76               0.567430                 0.465649\n",
       "201              0.246819                 0.259542"
      ]
     },
     "execution_count": 63,
     "metadata": {},
     "output_type": "execute_result"
    }
   ],
   "source": [
    "compare2= pd.DataFrame({\"Actual_selling_price\": y_test, \"Predicted_selling_price\": y_pred2})\n",
    "compare2"
   ]
  },
  {
   "cell_type": "markdown",
   "id": "385916e1",
   "metadata": {},
   "source": [
    "# MODEL EVALUATION"
   ]
  },
  {
   "cell_type": "code",
   "execution_count": 65,
   "id": "bb57ff52",
   "metadata": {},
   "outputs": [],
   "source": [
    "# R-Square score"
   ]
  },
  {
   "cell_type": "code",
   "execution_count": 66,
   "id": "f79eb268",
   "metadata": {},
   "outputs": [
    {
     "data": {
      "text/plain": [
       "0.9026627496246581"
      ]
     },
     "execution_count": 66,
     "metadata": {},
     "output_type": "execute_result"
    }
   ],
   "source": [
    "C=r2_score(y_test,y_pred2)\n",
    "C"
   ]
  },
  {
   "cell_type": "markdown",
   "id": "a79ad8d7",
   "metadata": {},
   "source": [
    "# SUPPORT VECTOR REGRESSION"
   ]
  },
  {
   "cell_type": "code",
   "execution_count": 67,
   "id": "27e1e267",
   "metadata": {},
   "outputs": [],
   "source": [
    "# SVM regression or Support Vector Regression (SVR) is a machine learning algorithm used for regression analysis. It is different from traditional linear regression methods as it finds a hyperplane that best fits the data points in a continuous space, instead of fitting a line to the data points.\n",
    "# SVM regression is a powerful tool for regression tasks where there may be complex relationships between the input variables and the target variable."
   ]
  },
  {
   "cell_type": "markdown",
   "id": "eecaa056",
   "metadata": {},
   "source": [
    "# MODEL BUILDING"
   ]
  },
  {
   "cell_type": "code",
   "execution_count": 83,
   "id": "ea26a269",
   "metadata": {},
   "outputs": [],
   "source": [
    "from sklearn.svm import SVR\n",
    "vector= SVR(kernel = 'rbf')"
   ]
  },
  {
   "cell_type": "markdown",
   "id": "a8648b8f",
   "metadata": {},
   "source": [
    "# MODEL TRAINING"
   ]
  },
  {
   "cell_type": "code",
   "execution_count": 84,
   "id": "90b190c3",
   "metadata": {},
   "outputs": [
    {
     "data": {
      "text/plain": [
       "SVR()"
      ]
     },
     "execution_count": 84,
     "metadata": {},
     "output_type": "execute_result"
    }
   ],
   "source": [
    "vector.fit(x_train,y_train)"
   ]
  },
  {
   "cell_type": "markdown",
   "id": "7da0d77d",
   "metadata": {},
   "source": [
    "# PREDICTIONS"
   ]
  },
  {
   "cell_type": "code",
   "execution_count": 85,
   "id": "21705411",
   "metadata": {},
   "outputs": [
    {
     "data": {
      "text/plain": [
       "array([ 0.14202424,  0.3084465 ,  0.36700925,  0.13728144,  0.17521479,\n",
       "        0.04831273,  0.07087236,  0.12766898,  0.30131945,  0.08823055,\n",
       "        0.12776809,  0.46553921,  0.46555878,  0.07745494,  0.09021926,\n",
       "        0.47393345,  0.45559972,  0.07578845,  0.69466063,  0.18011663,\n",
       "        0.44482809,  0.12176749,  0.53784788,  0.10583731,  0.07363095,\n",
       "        0.39867177,  0.11419733,  0.33756637,  0.22893356,  0.44177983,\n",
       "        0.06650371,  0.06771422,  0.06646942,  0.27368771,  0.13067105,\n",
       "        0.11820316,  0.4262319 ,  0.1233982 ,  0.30068783,  0.32205583,\n",
       "        0.08447154,  0.04028243,  0.27089338,  0.06815773, -0.00078573,\n",
       "        0.32043063,  0.23310925,  0.3403689 ,  0.32582482,  0.09227306,\n",
       "        0.17845372,  0.09364622,  0.33291134,  0.50871177,  0.27653119])"
      ]
     },
     "execution_count": 85,
     "metadata": {},
     "output_type": "execute_result"
    }
   ],
   "source": [
    "y_pred3= vector.predict(x_test)\n",
    "y_pred3"
   ]
  },
  {
   "cell_type": "markdown",
   "id": "616f85a9",
   "metadata": {},
   "source": [
    "# COMPARING ACTUAL AND PREDICTED SELLING PRICE"
   ]
  },
  {
   "cell_type": "code",
   "execution_count": 86,
   "id": "3cf1704b",
   "metadata": {},
   "outputs": [
    {
     "data": {
      "text/html": [
       "<div>\n",
       "<style scoped>\n",
       "    .dataframe tbody tr th:only-of-type {\n",
       "        vertical-align: middle;\n",
       "    }\n",
       "\n",
       "    .dataframe tbody tr th {\n",
       "        vertical-align: top;\n",
       "    }\n",
       "\n",
       "    .dataframe thead th {\n",
       "        text-align: right;\n",
       "    }\n",
       "</style>\n",
       "<table border=\"1\" class=\"dataframe\">\n",
       "  <thead>\n",
       "    <tr style=\"text-align: right;\">\n",
       "      <th></th>\n",
       "      <th>Actual_selling_price</th>\n",
       "      <th>Predicted_selling_price</th>\n",
       "    </tr>\n",
       "  </thead>\n",
       "  <tbody>\n",
       "    <tr>\n",
       "      <th>218</th>\n",
       "      <td>0.185751</td>\n",
       "      <td>0.142024</td>\n",
       "    </tr>\n",
       "    <tr>\n",
       "      <th>259</th>\n",
       "      <td>0.287532</td>\n",
       "      <td>0.308446</td>\n",
       "    </tr>\n",
       "    <tr>\n",
       "      <th>225</th>\n",
       "      <td>0.361323</td>\n",
       "      <td>0.367009</td>\n",
       "    </tr>\n",
       "    <tr>\n",
       "      <th>111</th>\n",
       "      <td>0.034606</td>\n",
       "      <td>0.137281</td>\n",
       "    </tr>\n",
       "    <tr>\n",
       "      <th>178</th>\n",
       "      <td>0.134860</td>\n",
       "      <td>0.175215</td>\n",
       "    </tr>\n",
       "    <tr>\n",
       "      <th>161</th>\n",
       "      <td>0.010178</td>\n",
       "      <td>0.048313</td>\n",
       "    </tr>\n",
       "    <tr>\n",
       "      <th>89</th>\n",
       "      <td>0.058524</td>\n",
       "      <td>0.070872</td>\n",
       "    </tr>\n",
       "    <tr>\n",
       "      <th>220</th>\n",
       "      <td>0.198473</td>\n",
       "      <td>0.127669</td>\n",
       "    </tr>\n",
       "    <tr>\n",
       "      <th>55</th>\n",
       "      <td>0.236641</td>\n",
       "      <td>0.301319</td>\n",
       "    </tr>\n",
       "    <tr>\n",
       "      <th>198</th>\n",
       "      <td>0.132316</td>\n",
       "      <td>0.088231</td>\n",
       "    </tr>\n",
       "    <tr>\n",
       "      <th>265</th>\n",
       "      <td>0.160305</td>\n",
       "      <td>0.127768</td>\n",
       "    </tr>\n",
       "    <tr>\n",
       "      <th>267</th>\n",
       "      <td>0.430025</td>\n",
       "      <td>0.465539</td>\n",
       "    </tr>\n",
       "    <tr>\n",
       "      <th>210</th>\n",
       "      <td>0.567430</td>\n",
       "      <td>0.465559</td>\n",
       "    </tr>\n",
       "    <tr>\n",
       "      <th>126</th>\n",
       "      <td>0.025445</td>\n",
       "      <td>0.077455</td>\n",
       "    </tr>\n",
       "    <tr>\n",
       "      <th>97</th>\n",
       "      <td>0.051399</td>\n",
       "      <td>0.090219</td>\n",
       "    </tr>\n",
       "    <tr>\n",
       "      <th>15</th>\n",
       "      <td>0.389313</td>\n",
       "      <td>0.473933</td>\n",
       "    </tr>\n",
       "    <tr>\n",
       "      <th>8</th>\n",
       "      <td>0.440204</td>\n",
       "      <td>0.455600</td>\n",
       "    </tr>\n",
       "    <tr>\n",
       "      <th>152</th>\n",
       "      <td>0.015267</td>\n",
       "      <td>0.075788</td>\n",
       "    </tr>\n",
       "    <tr>\n",
       "      <th>59</th>\n",
       "      <td>0.720102</td>\n",
       "      <td>0.694661</td>\n",
       "    </tr>\n",
       "    <tr>\n",
       "      <th>238</th>\n",
       "      <td>0.180662</td>\n",
       "      <td>0.180117</td>\n",
       "    </tr>\n",
       "    <tr>\n",
       "      <th>45</th>\n",
       "      <td>0.389313</td>\n",
       "      <td>0.444828</td>\n",
       "    </tr>\n",
       "    <tr>\n",
       "      <th>116</th>\n",
       "      <td>0.027990</td>\n",
       "      <td>0.121767</td>\n",
       "    </tr>\n",
       "    <tr>\n",
       "      <th>247</th>\n",
       "      <td>0.549618</td>\n",
       "      <td>0.537848</td>\n",
       "    </tr>\n",
       "    <tr>\n",
       "      <th>160</th>\n",
       "      <td>0.012723</td>\n",
       "      <td>0.105837</td>\n",
       "    </tr>\n",
       "    <tr>\n",
       "      <th>63</th>\n",
       "      <td>0.129771</td>\n",
       "      <td>0.073631</td>\n",
       "    </tr>\n",
       "    <tr>\n",
       "      <th>7</th>\n",
       "      <td>0.325700</td>\n",
       "      <td>0.398672</td>\n",
       "    </tr>\n",
       "    <tr>\n",
       "      <th>92</th>\n",
       "      <td>0.055980</td>\n",
       "      <td>0.114197</td>\n",
       "    </tr>\n",
       "    <tr>\n",
       "      <th>235</th>\n",
       "      <td>0.330789</td>\n",
       "      <td>0.337566</td>\n",
       "    </tr>\n",
       "    <tr>\n",
       "      <th>206</th>\n",
       "      <td>0.193384</td>\n",
       "      <td>0.228934</td>\n",
       "    </tr>\n",
       "    <tr>\n",
       "      <th>255</th>\n",
       "      <td>0.452417</td>\n",
       "      <td>0.441780</td>\n",
       "    </tr>\n",
       "    <tr>\n",
       "      <th>144</th>\n",
       "      <td>0.017812</td>\n",
       "      <td>0.066504</td>\n",
       "    </tr>\n",
       "    <tr>\n",
       "      <th>118</th>\n",
       "      <td>0.027990</td>\n",
       "      <td>0.067714</td>\n",
       "    </tr>\n",
       "    <tr>\n",
       "      <th>103</th>\n",
       "      <td>0.048346</td>\n",
       "      <td>0.066469</td>\n",
       "    </tr>\n",
       "    <tr>\n",
       "      <th>191</th>\n",
       "      <td>0.323155</td>\n",
       "      <td>0.273688</td>\n",
       "    </tr>\n",
       "    <tr>\n",
       "      <th>73</th>\n",
       "      <td>0.170483</td>\n",
       "      <td>0.130671</td>\n",
       "    </tr>\n",
       "    <tr>\n",
       "      <th>137</th>\n",
       "      <td>0.019338</td>\n",
       "      <td>0.118203</td>\n",
       "    </tr>\n",
       "    <tr>\n",
       "      <th>230</th>\n",
       "      <td>0.422392</td>\n",
       "      <td>0.426232</td>\n",
       "    </tr>\n",
       "    <tr>\n",
       "      <th>83</th>\n",
       "      <td>0.083969</td>\n",
       "      <td>0.123398</td>\n",
       "    </tr>\n",
       "    <tr>\n",
       "      <th>64</th>\n",
       "      <td>0.244275</td>\n",
       "      <td>0.300688</td>\n",
       "    </tr>\n",
       "    <tr>\n",
       "      <th>258</th>\n",
       "      <td>0.282443</td>\n",
       "      <td>0.322056</td>\n",
       "    </tr>\n",
       "    <tr>\n",
       "      <th>101</th>\n",
       "      <td>0.048346</td>\n",
       "      <td>0.084472</td>\n",
       "    </tr>\n",
       "    <tr>\n",
       "      <th>200</th>\n",
       "      <td>0.124682</td>\n",
       "      <td>0.040282</td>\n",
       "    </tr>\n",
       "    <tr>\n",
       "      <th>272</th>\n",
       "      <td>0.264631</td>\n",
       "      <td>0.270893</td>\n",
       "    </tr>\n",
       "    <tr>\n",
       "      <th>106</th>\n",
       "      <td>0.043257</td>\n",
       "      <td>0.068158</td>\n",
       "    </tr>\n",
       "    <tr>\n",
       "      <th>27</th>\n",
       "      <td>0.094148</td>\n",
       "      <td>-0.000786</td>\n",
       "    </tr>\n",
       "    <tr>\n",
       "      <th>224</th>\n",
       "      <td>0.269720</td>\n",
       "      <td>0.320431</td>\n",
       "    </tr>\n",
       "    <tr>\n",
       "      <th>189</th>\n",
       "      <td>0.142494</td>\n",
       "      <td>0.233109</td>\n",
       "    </tr>\n",
       "    <tr>\n",
       "      <th>182</th>\n",
       "      <td>0.241730</td>\n",
       "      <td>0.340369</td>\n",
       "    </tr>\n",
       "    <tr>\n",
       "      <th>219</th>\n",
       "      <td>0.297710</td>\n",
       "      <td>0.325825</td>\n",
       "    </tr>\n",
       "    <tr>\n",
       "      <th>37</th>\n",
       "      <td>0.124682</td>\n",
       "      <td>0.092273</td>\n",
       "    </tr>\n",
       "    <tr>\n",
       "      <th>231</th>\n",
       "      <td>0.193384</td>\n",
       "      <td>0.178454</td>\n",
       "    </tr>\n",
       "    <tr>\n",
       "      <th>136</th>\n",
       "      <td>0.020356</td>\n",
       "      <td>0.093646</td>\n",
       "    </tr>\n",
       "    <tr>\n",
       "      <th>20</th>\n",
       "      <td>0.244275</td>\n",
       "      <td>0.332911</td>\n",
       "    </tr>\n",
       "    <tr>\n",
       "      <th>76</th>\n",
       "      <td>0.567430</td>\n",
       "      <td>0.508712</td>\n",
       "    </tr>\n",
       "    <tr>\n",
       "      <th>201</th>\n",
       "      <td>0.246819</td>\n",
       "      <td>0.276531</td>\n",
       "    </tr>\n",
       "  </tbody>\n",
       "</table>\n",
       "</div>"
      ],
      "text/plain": [
       "     Actual_selling_price  Predicted_selling_price\n",
       "218              0.185751                 0.142024\n",
       "259              0.287532                 0.308446\n",
       "225              0.361323                 0.367009\n",
       "111              0.034606                 0.137281\n",
       "178              0.134860                 0.175215\n",
       "161              0.010178                 0.048313\n",
       "89               0.058524                 0.070872\n",
       "220              0.198473                 0.127669\n",
       "55               0.236641                 0.301319\n",
       "198              0.132316                 0.088231\n",
       "265              0.160305                 0.127768\n",
       "267              0.430025                 0.465539\n",
       "210              0.567430                 0.465559\n",
       "126              0.025445                 0.077455\n",
       "97               0.051399                 0.090219\n",
       "15               0.389313                 0.473933\n",
       "8                0.440204                 0.455600\n",
       "152              0.015267                 0.075788\n",
       "59               0.720102                 0.694661\n",
       "238              0.180662                 0.180117\n",
       "45               0.389313                 0.444828\n",
       "116              0.027990                 0.121767\n",
       "247              0.549618                 0.537848\n",
       "160              0.012723                 0.105837\n",
       "63               0.129771                 0.073631\n",
       "7                0.325700                 0.398672\n",
       "92               0.055980                 0.114197\n",
       "235              0.330789                 0.337566\n",
       "206              0.193384                 0.228934\n",
       "255              0.452417                 0.441780\n",
       "144              0.017812                 0.066504\n",
       "118              0.027990                 0.067714\n",
       "103              0.048346                 0.066469\n",
       "191              0.323155                 0.273688\n",
       "73               0.170483                 0.130671\n",
       "137              0.019338                 0.118203\n",
       "230              0.422392                 0.426232\n",
       "83               0.083969                 0.123398\n",
       "64               0.244275                 0.300688\n",
       "258              0.282443                 0.322056\n",
       "101              0.048346                 0.084472\n",
       "200              0.124682                 0.040282\n",
       "272              0.264631                 0.270893\n",
       "106              0.043257                 0.068158\n",
       "27               0.094148                -0.000786\n",
       "224              0.269720                 0.320431\n",
       "189              0.142494                 0.233109\n",
       "182              0.241730                 0.340369\n",
       "219              0.297710                 0.325825\n",
       "37               0.124682                 0.092273\n",
       "231              0.193384                 0.178454\n",
       "136              0.020356                 0.093646\n",
       "20               0.244275                 0.332911\n",
       "76               0.567430                 0.508712\n",
       "201              0.246819                 0.276531"
      ]
     },
     "execution_count": 86,
     "metadata": {},
     "output_type": "execute_result"
    }
   ],
   "source": [
    "compare3= pd.DataFrame({\"Actual_selling_price\": y_test, \"Predicted_selling_price\": y_pred3})\n",
    "compare3"
   ]
  },
  {
   "cell_type": "markdown",
   "id": "5b45049e",
   "metadata": {},
   "source": [
    "# MODEL EVALUATION"
   ]
  },
  {
   "cell_type": "code",
   "execution_count": 87,
   "id": "12e3e3d5",
   "metadata": {},
   "outputs": [],
   "source": [
    "# R-Square score"
   ]
  },
  {
   "cell_type": "code",
   "execution_count": 88,
   "id": "f066a1d8",
   "metadata": {},
   "outputs": [
    {
     "data": {
      "text/plain": [
       "0.8905788806606769"
      ]
     },
     "execution_count": 88,
     "metadata": {},
     "output_type": "execute_result"
    }
   ],
   "source": [
    "D=r2_score(y_test,y_pred3)\n",
    "D"
   ]
  },
  {
   "cell_type": "markdown",
   "id": "e0f04507",
   "metadata": {},
   "source": [
    "# ANALYSING R-SQUARE SCORES "
   ]
  },
  {
   "cell_type": "code",
   "execution_count": 77,
   "id": "1261df49",
   "metadata": {},
   "outputs": [
    {
     "data": {
      "text/html": [
       "<div>\n",
       "<style scoped>\n",
       "    .dataframe tbody tr th:only-of-type {\n",
       "        vertical-align: middle;\n",
       "    }\n",
       "\n",
       "    .dataframe tbody tr th {\n",
       "        vertical-align: top;\n",
       "    }\n",
       "\n",
       "    .dataframe thead th {\n",
       "        text-align: right;\n",
       "    }\n",
       "</style>\n",
       "<table border=\"1\" class=\"dataframe\">\n",
       "  <thead>\n",
       "    <tr style=\"text-align: right;\">\n",
       "      <th></th>\n",
       "      <th>R-SQUARE SCORE</th>\n",
       "    </tr>\n",
       "  </thead>\n",
       "  <tbody>\n",
       "    <tr>\n",
       "      <th>LINEAR REGRESSION</th>\n",
       "      <td>0.912937</td>\n",
       "    </tr>\n",
       "    <tr>\n",
       "      <th>RANDOM FOREST REGRESSOR</th>\n",
       "      <td>0.962068</td>\n",
       "    </tr>\n",
       "    <tr>\n",
       "      <th>DECISION TREE REGRESSOR</th>\n",
       "      <td>0.902663</td>\n",
       "    </tr>\n",
       "    <tr>\n",
       "      <th>SUPPORT VECTOR REGRESSOR</th>\n",
       "      <td>0.890579</td>\n",
       "    </tr>\n",
       "  </tbody>\n",
       "</table>\n",
       "</div>"
      ],
      "text/plain": [
       "                          R-SQUARE SCORE\n",
       "LINEAR REGRESSION               0.912937\n",
       "RANDOM FOREST REGRESSOR         0.962068\n",
       "DECISION TREE REGRESSOR         0.902663\n",
       "SUPPORT VECTOR REGRESSOR        0.890579"
      ]
     },
     "execution_count": 77,
     "metadata": {},
     "output_type": "execute_result"
    }
   ],
   "source": [
    "analyse= pd.DataFrame({\"R-SQUARE SCORE\":[A,B,C,D]},index=[\"LINEAR REGRESSION\",\"RANDOM FOREST REGRESSOR\",\"DECISION TREE REGRESSOR\",\"SUPPORT VECTOR REGRESSOR\"])\n",
    "analyse"
   ]
  },
  {
   "cell_type": "markdown",
   "id": "046cf047",
   "metadata": {},
   "source": [
    "# VISUALIZING R-SQUARE SCORES"
   ]
  },
  {
   "cell_type": "markdown",
   "id": "60b4a194",
   "metadata": {},
   "source": [
    "# COUNT PLOT"
   ]
  },
  {
   "cell_type": "code",
   "execution_count": 80,
   "id": "30cfaaa3",
   "metadata": {},
   "outputs": [
    {
     "data": {
      "image/png": "[encoded data removed]",
      "text/plain": [
       "<Figure size 576x432 with 1 Axes>"
      ]
     },
     "metadata": {
      "needs_background": "light"
     },
     "output_type": "display_data"
    }
   ],
   "source": [
    "abz= plt.subplots(figsize=(8,6))\n",
    "sns.countplot(x=[A,B,C,D],hue=[\"LINEAR REGRESSION\",\"RANDOM FOREST REGRESSOR\",\"DECISION TREE REGRESSOR\",\"SUPPORT VECTOR REGRESSOR\"])\n",
    "plt.title(\"Comparing R-SQUARE SCORES Of Algorithms\")\n",
    "plt.xticks(rotation=90)\n",
    "plt.show()"
   ]
  },
  {
   "cell_type": "markdown",
   "id": "0b6d523a",
   "metadata": {},
   "source": [
    "# PIE CHART"
   ]
  },
  {
   "cell_type": "code",
   "execution_count": 82,
   "id": "f4acd5fc",
   "metadata": {},
   "outputs": [
    {
     "data": {
      "image/png": "[encoded data removed]",
      "text/plain": [
       "<Figure size 432x288 with 1 Axes>"
      ]
     },
     "metadata": {},
     "output_type": "display_data"
    }
   ],
   "source": [
    "plt.pie(x=[A,B,C,D],autopct=\"%0.2f%%\",radius=2.0,labels=[\"LINEAR REGRESSION\",\"RANDOM FOREST REGRESSOR\",\"DECISION TREE REGRESSOR\",\"SUPPORT VECTOR REGRESSOR\"])\n",
    "plt.show()"
   ]
  },
  {
   "cell_type": "markdown",
   "id": "abc080c5",
   "metadata": {},
   "source": [
    "# CONCLUSION"
   ]
  },
  {
   "cell_type": "markdown",
   "id": "e14d54bb",
   "metadata": {},
   "source": [
    "# From the above, we can conclude that RANDOM FOREST REGRESSOR has highest R-SQUARE SCORE."
   ]
  },
  {
   "cell_type": "markdown",
   "id": "d5501775",
   "metadata": {},
   "source": [
    "# HENCE RANDOM FOREST REGRESSOR IS BEST SUITED ALGORITHM FOR CAR PRICE PREDICTION"
   ]
  },
  {
   "cell_type": "code",
   "execution_count": null,
   "id": "7c43180d",
   "metadata": {},
   "outputs": [],
   "source": []
  }
 ],
 "metadata": {
  "kernelspec": {
   "display_name": "Python 3 (ipykernel)",
   "language": "python",
   "name": "python3"
  },
  "language_info": {
   "codemirror_mode": {
    "name": "ipython",
    "version": 3
   },
   "file_extension": ".py",
   "mimetype": "text/x-python",
   "name": "python",
   "nbconvert_exporter": "python",
   "pygments_lexer": "ipython3",
   "version": "3.9.12"
  }
 },
 "nbformat": 4,
 "nbformat_minor": 5
}
